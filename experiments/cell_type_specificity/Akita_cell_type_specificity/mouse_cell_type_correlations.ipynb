{
 "cells": [
  {
   "cell_type": "code",
   "execution_count": 1,
   "metadata": {},
   "outputs": [],
   "source": [
    "import numpy as np\n",
    "import matplotlib.pyplot as plt\n",
    "from scipy.stats import pearsonr\n",
    "import seaborn as sns"
   ]
  },
  {
   "cell_type": "code",
   "execution_count": 2,
   "metadata": {},
   "outputs": [],
   "source": [
    "preds = np.load(\"/scratch1/smaruj/test_mouse_fold0_AkitaV2/combined_pred_matrices.npy\", allow_pickle=True)"
   ]
  },
  {
   "cell_type": "code",
   "execution_count": 3,
   "metadata": {},
   "outputs": [],
   "source": [
    "targets = np.load(\"/scratch1/smaruj/test_mouse_fold0_AkitaV2/combined_target_matrices.npy\", allow_pickle=True)"
   ]
  },
  {
   "cell_type": "code",
   "execution_count": null,
   "metadata": {},
   "outputs": [],
   "source": [
    "def plot_hexbin_accumulated(preds, targets, cell_type_idx, cell_type_name, save_path=None):\n",
    "    # Concatenate all predictions and targets across the 725 test windows\n",
    "    pred_vec_all = []\n",
    "    target_vec_all = []\n",
    "    \n",
    "    for i in range(preds.shape[0]):\n",
    "        # Flatten the 512x512 maps and concatenate\n",
    "        pred_vec_all.append(preds[i, :, :, cell_type_idx].flatten())\n",
    "        target_vec_all.append(targets[i, :, :, cell_type_idx].flatten())\n",
    "    \n",
    "    # Convert the list of arrays into a single array\n",
    "    pred_vec_all = np.concatenate(pred_vec_all)\n",
    "    target_vec_all = np.concatenate(target_vec_all)\n",
    "\n",
    "    # Filter out NaN values\n",
    "    mask = np.isfinite(pred_vec_all) & np.isfinite(target_vec_all)\n",
    "    pred_vec_filtered = pred_vec_all[mask]\n",
    "    target_vec_filtered = target_vec_all[mask]\n",
    "\n",
    "    # Calculate Pearson correlation only on finite values\n",
    "    corr, _ = pearsonr(pred_vec_filtered, target_vec_filtered) if len(pred_vec_filtered) > 0 else (np.nan, np.nan)\n",
    "\n",
    "    # Create hexbin plot\n",
    "    plt.figure(figsize=(7, 6))\n",
    "    hb = plt.hexbin(pred_vec_filtered, target_vec_filtered, gridsize=50, cmap='viridis', bins='log')\n",
    "    plt.colorbar(label='log10(frequency)')\n",
    "    \n",
    "    plt.xlabel(f'pred-{cell_type_name}')\n",
    "    plt.ylabel(f'expt-{cell_type_name}')\n",
    "    plt.title(f'corr: {corr:.2f}')\n",
    "    plt.grid(True)\n",
    "    \n",
    "    if save_path:\n",
    "        plt.savefig(save_path, bbox_inches='tight', format=\"pdf\")\n",
    "    \n",
    "    plt.show()"
   ]
  },
  {
   "cell_type": "code",
   "execution_count": 4,
   "metadata": {},
   "outputs": [],
   "source": [
    "cell_types = ['mESC (Hsieh2019)', 'mESC (Bonev2017)', 'cortical neuron', 'neocortex cortical neuron', 'neural progenitor cell', 'neocortex neural progenitor cell']"
   ]
  },
  {
   "cell_type": "code",
   "execution_count": null,
   "metadata": {},
   "outputs": [],
   "source": [
    "for idx, cell_type in enumerate(cell_types):\n",
    "    print(f\"Plotting for {cell_type}...\")\n",
    "    plot_hexbin_accumulated(preds, targets, cell_type_idx=idx, cell_type_name=cell_type) #, save_path=f\"./plots_mouse/{cell_type}_corr.pdf\")"
   ]
  },
  {
   "cell_type": "code",
   "execution_count": null,
   "metadata": {},
   "outputs": [],
   "source": [
    "def calculate_cell_type_correlation(matrix):\n",
    "    num_cell_types = matrix.shape[-1]\n",
    "    correlation_matrix = np.zeros((num_cell_types, num_cell_types))\n",
    "    \n",
    "    # Iterate over all pairs of cell types\n",
    "    for i in range(num_cell_types):\n",
    "        for j in range(i, num_cell_types):\n",
    "            # Flatten the 512x512 maps for both cell types\n",
    "            cell_type_i = matrix[:, :, :, i].flatten()\n",
    "            cell_type_j = matrix[:, :, :, j].flatten()\n",
    "            \n",
    "            # Create a mask for valid (non-NaN) entries\n",
    "            mask = ~np.isnan(cell_type_i) & ~np.isnan(cell_type_j)\n",
    "            \n",
    "            if np.any(mask):  # Check if there are any valid pairs\n",
    "                # Calculate correlation between the two cell types using valid entries\n",
    "                corr, _ = pearsonr(cell_type_i[mask], cell_type_j[mask])\n",
    "            else:\n",
    "                corr = np.nan  # Set correlation to NaN if no valid pairs\n",
    "            \n",
    "            correlation_matrix[i, j] = corr\n",
    "            correlation_matrix[j, i] = corr  # Symmetric matrix\n",
    "    \n",
    "    return correlation_matrix"
   ]
  },
  {
   "cell_type": "code",
   "execution_count": null,
   "metadata": {},
   "outputs": [],
   "source": [
    "# Function to calculate average correlations between cell types\n",
    "def average_cell_type_correlations(matrix):\n",
    "    num_cell_types = matrix.shape[-1]\n",
    "    \n",
    "    # Initialize matrix to accumulate correlations across all windows\n",
    "    corr_sum = np.zeros((num_cell_types, num_cell_types))\n",
    "    \n",
    "    # Iterate over all windows\n",
    "    for i in range(matrix.shape[0]):\n",
    "        # Calculate correlation matrix for current window\n",
    "        corr = calculate_cell_type_correlation(matrix[i:i+1])\n",
    "        \n",
    "        # Accumulate the correlations\n",
    "        corr_sum += corr\n",
    "    \n",
    "    # Average correlations over all windows\n",
    "    corr_avg = corr_sum / matrix.shape[0]\n",
    "    \n",
    "    return corr_avg"
   ]
  },
  {
   "cell_type": "code",
   "execution_count": null,
   "metadata": {},
   "outputs": [],
   "source": [
    "# Function to plot heatmap of correlations\n",
    "def plot_heatmap(corr_matrix, title, cell_type_names, save_path=None):\n",
    "    plt.figure(figsize=(8, 6))\n",
    "    \n",
    "    mask = np.tril(np.ones_like(corr_matrix, dtype=bool))\n",
    "    \n",
    "    # vmin = np.min(corr_matrix)\n",
    "    # vmax = np.max(corr_matrix)\n",
    "    \n",
    "    vmin = 0.09\n",
    "    vmax = 0.30\n",
    "    \n",
    "    # Create the heatmap\n",
    "    sns.heatmap(corr_matrix, annot=True, fmt=\".2f\", cmap='viridis', \n",
    "                vmin=vmin, vmax=vmax, mask=mask, cbar_kws={\"shrink\": .8},\n",
    "                xticklabels=cell_type_names, yticklabels=cell_type_names)\n",
    "    \n",
    "    plt.title(title)\n",
    "    \n",
    "    if save_path:\n",
    "        plt.savefig(save_path, bbox_inches='tight', format=\"pdf\")\n",
    "    \n",
    "    plt.show()"
   ]
  },
  {
   "cell_type": "code",
   "execution_count": null,
   "metadata": {},
   "outputs": [],
   "source": [
    "# Calculate the average correlations for preds\n",
    "pred_corr_avg = average_cell_type_correlations(preds)"
   ]
  },
  {
   "cell_type": "code",
   "execution_count": null,
   "metadata": {},
   "outputs": [],
   "source": [
    "plot_heatmap(pred_corr_avg, \"Average Correlation Matrix for Predictions\", cell_type_names=cell_types) #, save_path=\"./plots_mouse/predictions_cell_type_corr.pdf\")"
   ]
  },
  {
   "cell_type": "code",
   "execution_count": null,
   "metadata": {},
   "outputs": [],
   "source": [
    "del pred_corr_avg"
   ]
  },
  {
   "cell_type": "code",
   "execution_count": null,
   "metadata": {},
   "outputs": [],
   "source": [
    "# Calculate the average correlations for preds\n",
    "targ_corr_avg = average_cell_type_correlations(targets)"
   ]
  },
  {
   "cell_type": "code",
   "execution_count": null,
   "metadata": {},
   "outputs": [],
   "source": [
    "plot_heatmap(targ_corr_avg, \"Average Correlation Matrix for Targets\", cell_type_names=cell_types) #, save_path=\"./plots_mouse/targets_cell_type_corr.pdf\")"
   ]
  },
  {
   "cell_type": "code",
   "execution_count": null,
   "metadata": {},
   "outputs": [],
   "source": [
    "del targ_corr_avg"
   ]
  },
  {
   "cell_type": "code",
   "execution_count": null,
   "metadata": {},
   "outputs": [],
   "source": [
    "def calculate_cell_type_differences_and_correlations(preds, targets):\n",
    "    num_cell_types = preds.shape[3]\n",
    "    correlations = np.zeros((num_cell_types, num_cell_types))  # Store correlations between differences\n",
    "\n",
    "    for i in range(num_cell_types):\n",
    "        for j in range(num_cell_types):\n",
    "            # Calculate differences between cell types i and j for preds and targets\n",
    "            preds_diff = preds[:, :, :, i] - preds[:, :, :, j]  # Difference between predictions\n",
    "            targets_diff = targets[:, :, :, i] - targets[:, :, :, j]  # Difference between targets\n",
    "\n",
    "            # Flatten the differences for correlation calculation\n",
    "            preds_diff_flat = preds_diff.reshape(preds_diff.shape[0], -1)\n",
    "            targets_diff_flat = targets_diff.reshape(targets_diff.shape[0], -1)\n",
    "\n",
    "            # Compute the correlation only for finite values\n",
    "            mask = np.isfinite(preds_diff_flat) & np.isfinite(targets_diff_flat)\n",
    "            if np.any(mask):  # Check if there are any valid values\n",
    "                corr, _ = pearsonr(preds_diff_flat[mask], targets_diff_flat[mask])\n",
    "                correlations[i, j] = corr\n",
    "            else:\n",
    "                correlations[i, j] = np.nan  # No valid values to compute correlation\n",
    "\n",
    "    return correlations"
   ]
  },
  {
   "cell_type": "code",
   "execution_count": null,
   "metadata": {},
   "outputs": [],
   "source": [
    "diff_corr = calculate_cell_type_differences_and_correlations(preds, targets)"
   ]
  },
  {
   "cell_type": "code",
   "execution_count": null,
   "metadata": {},
   "outputs": [],
   "source": [
    "plot_heatmap(diff_corr, \"Average Cell-Type Difference Correlation Matrix\", cell_type_names=cell_types) #, save_path=\"./plots_mouse/cell_type_differences_corr.pdf\")"
   ]
  },
  {
   "cell_type": "code",
   "execution_count": 7,
   "metadata": {},
   "outputs": [],
   "source": [
    "def calculate_average_differences_and_correlations(preds, targets):\n",
    "    num_windows, height, width, num_cell_types = preds.shape\n",
    "    ave_correlations = np.zeros(num_windows, dtype=float)\n",
    "    total_pairs = num_cell_types * (num_cell_types - 1) // 2  # Number of cell type pairs (i, j)\n",
    "\n",
    "    # Loop over each window\n",
    "    for k in range(num_windows):\n",
    "        if k % 100 == 0:\n",
    "            print(f\"Calculating window {k}\")\n",
    "        total_corr = 0  # Accumulate correlations for this window\n",
    "        pair_count = 0  # Track number of valid pairs\n",
    "\n",
    "        # Calculate pairwise differences between cell types for preds and targets\n",
    "        for i in range(num_cell_types):\n",
    "            for j in range(i + 1, num_cell_types):\n",
    "                preds_diff = preds[k, :, :, i] - preds[k, :, :, j]\n",
    "                targets_diff = targets[k, :, :, i] - targets[k, :, :, j]\n",
    "\n",
    "                # Flatten and mask finite values for correlation calculation\n",
    "                preds_diff_flat = preds_diff.ravel()\n",
    "                targets_diff_flat = targets_diff.ravel()\n",
    "                mask = np.isfinite(preds_diff_flat) & np.isfinite(targets_diff_flat)\n",
    "\n",
    "                # Calculate correlation if there are valid values\n",
    "                if np.any(mask):\n",
    "                    corr, _ = pearsonr(preds_diff_flat[mask], targets_diff_flat[mask])\n",
    "                    total_corr += corr\n",
    "                    pair_count += 1\n",
    "\n",
    "        # Average the correlations for this window\n",
    "        ave_correlations[k] = total_corr / pair_count if pair_count > 0 else np.nan\n",
    "\n",
    "    return ave_correlations\n"
   ]
  },
  {
   "cell_type": "code",
   "execution_count": 8,
   "metadata": {},
   "outputs": [
    {
     "name": "stdout",
     "output_type": "stream",
     "text": [
      "Calculating window 0\n",
      "Calculating window 100\n",
      "Calculating window 200\n",
      "Calculating window 300\n",
      "Calculating window 400\n",
      "Calculating window 500\n",
      "Calculating window 600\n",
      "Calculating window 700\n"
     ]
    }
   ],
   "source": [
    "window_correlations = calculate_average_differences_and_correlations(preds, targets)"
   ]
  },
  {
   "cell_type": "code",
   "execution_count": 9,
   "metadata": {},
   "outputs": [],
   "source": [
    "import pandas as pd\n",
    "test_path = \"/project/fudenber_735/tensorflow_models/akita/v2/data/mm10/sequences.bed\"\n",
    "sequences_V2 = pd.read_csv(test_path, sep='\\t', names=['chr','start','stop','type'])\n",
    "fold0 = sequences_V2[sequences_V2[\"type\"] == \"fold0\"]"
   ]
  },
  {
   "cell_type": "code",
   "execution_count": 11,
   "metadata": {},
   "outputs": [
    {
     "name": "stderr",
     "output_type": "stream",
     "text": [
      "/tmp/SLURM_24116323/ipykernel_20627/3256815446.py:1: SettingWithCopyWarning: \n",
      "A value is trying to be set on a copy of a slice from a DataFrame.\n",
      "Try using .loc[row_indexer,col_indexer] = value instead\n",
      "\n",
      "See the caveats in the documentation: https://pandas.pydata.org/pandas-docs/stable/user_guide/indexing.html#returning-a-view-versus-a-copy\n",
      "  fold0[\"ave_corr\"] = window_correlations\n"
     ]
    }
   ],
   "source": [
    "fold0[\"ave_corr\"] = window_correlations"
   ]
  },
  {
   "cell_type": "code",
   "execution_count": 13,
   "metadata": {},
   "outputs": [],
   "source": [
    "fold0.to_csv('mouse_fold0_avecorr.tsv', sep='\\t', index=False) "
   ]
  }
 ],
 "metadata": {
  "kernelspec": {
   "display_name": "basenji_py3.9_tf2.15",
   "language": "python",
   "name": "basenji_py3.9_tf2.15"
  },
  "language_info": {
   "codemirror_mode": {
    "name": "ipython",
    "version": 3
   },
   "file_extension": ".py",
   "mimetype": "text/x-python",
   "name": "python",
   "nbconvert_exporter": "python",
   "pygments_lexer": "ipython3",
   "version": "3.9.18"
  }
 },
 "nbformat": 4,
 "nbformat_minor": 2
}
