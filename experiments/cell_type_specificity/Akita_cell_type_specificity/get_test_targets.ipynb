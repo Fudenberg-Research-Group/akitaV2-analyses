{
 "cells": [
  {
   "cell_type": "code",
   "execution_count": 1,
   "metadata": {},
   "outputs": [],
   "source": [
    "import pandas as pd\n",
    "import numpy as np"
   ]
  },
  {
   "cell_type": "code",
   "execution_count": 2,
   "metadata": {},
   "outputs": [],
   "source": [
    "test_path = \"/project/fudenber_735/tensorflow_models/akita/v2/data/mm10/sequences.bed\""
   ]
  },
  {
   "cell_type": "code",
   "execution_count": 3,
   "metadata": {},
   "outputs": [],
   "source": [
    "sequences_V2 = pd.read_csv(test_path, sep='\\t', names=['chr','start','stop','type'])"
   ]
  },
  {
   "cell_type": "code",
   "execution_count": 4,
   "metadata": {},
   "outputs": [],
   "source": [
    "fold0 = sequences_V2[sequences_V2[\"type\"] == \"fold0\"]"
   ]
  },
  {
   "cell_type": "code",
   "execution_count": 5,
   "metadata": {},
   "outputs": [
    {
     "data": {
      "text/plain": [
       "725"
      ]
     },
     "execution_count": 5,
     "metadata": {},
     "output_type": "execute_result"
    }
   ],
   "source": [
    "len(fold0)"
   ]
  },
  {
   "cell_type": "code",
   "execution_count": 6,
   "metadata": {},
   "outputs": [],
   "source": [
    "import warnings\n",
    "warnings.filterwarnings(\"ignore\") \n",
    "\n",
    "import cooler\n",
    "from cooltools.lib.numutils import observed_over_expected, adaptive_coarsegrain\n",
    "from cooltools.lib.numutils import interpolate_bad_singletons, set_diag, interp_nan\n",
    "from astropy.convolution import Gaussian2DKernel\n",
    "from astropy.convolution import convolve"
   ]
  },
  {
   "cell_type": "code",
   "execution_count": 7,
   "metadata": {},
   "outputs": [],
   "source": [
    "def get_target(cooler_path, padding, mseq_str, diagonal_offset=2):\n",
    "    \n",
    "    genome_hic_cool = cooler.Cooler(cooler_path)\n",
    "    \n",
    "    seq_hic_raw = genome_hic_cool.matrix(balance=True).fetch(mseq_str)\n",
    "\n",
    "    seq_hic_nan = np.isnan(seq_hic_raw)\n",
    "    # num_filtered_bins = np.sum(np.sum(seq_hic_nan,axis=0) == len(seq_hic_nan))\n",
    "\n",
    "    # clip first diagonals and high values\n",
    "    clipval = np.nanmedian(np.diag(seq_hic_raw, diagonal_offset))\n",
    "    for i in range(-diagonal_offset+1, diagonal_offset):\n",
    "        set_diag(seq_hic_raw, clipval, i)\n",
    "    seq_hic_raw = np.clip(seq_hic_raw, 0, clipval)\n",
    "    seq_hic_raw[seq_hic_nan] = np.nan\n",
    "    \n",
    "    # adaptively coarsegrain based on raw counts\n",
    "    seq_hic_smoothed = adaptive_coarsegrain(\n",
    "                        seq_hic_raw,\n",
    "                        genome_hic_cool.matrix(balance=False).fetch(mseq_str),\n",
    "                        cutoff=2, max_levels=8)\n",
    "    seq_hic_nan = np.isnan(seq_hic_smoothed)\n",
    "    \n",
    "    # local obs/exp\n",
    "    seq_hic_obsexp = observed_over_expected(seq_hic_smoothed, ~seq_hic_nan)[0]\n",
    "    log_hic_obsexp = np.log(seq_hic_obsexp)\n",
    "\n",
    "    # crop\n",
    "    if padding > 0:\n",
    "        log_hic_obsexp = log_hic_obsexp[padding:-padding,:]\n",
    "        log_hic_obsexp = log_hic_obsexp[:,padding:-padding]\n",
    "\n",
    "    # aplying Gaussian Kernel\n",
    "    kernel = Gaussian2DKernel(x_stddev=1)\n",
    "    kernel_log_hic_obsexp = convolve(log_hic_obsexp, kernel)\n",
    "    \n",
    "    return kernel_log_hic_obsexp"
   ]
  },
  {
   "cell_type": "code",
   "execution_count": 8,
   "metadata": {},
   "outputs": [],
   "source": [
    "padding = (640-512) // 2"
   ]
  },
  {
   "cell_type": "code",
   "execution_count": 9,
   "metadata": {},
   "outputs": [],
   "source": [
    "cool_paths = {\"Hsieh2019_mESC_uC_path\" : \"/project/fudenber_735/GEO/Hsieh2019/4DN/mESC_mm10_4DNFILZ1CPT8.mapq_30.2048.cool\",\n",
    "\"Bonev2017_mESC_path\" : \"/project/fudenber_735/GEO/bonev_2017_GSE96107/distiller-0.3.1_mm10/results/coolers/HiC_ES_all.mm10.mapq_30.2048.cool\",\n",
    "\"Bonev2017_CN_path\" : \"/project/fudenber_735/GEO/bonev_2017_GSE96107/distiller-0.3.1_mm10/results/coolers/HiC_CN_all.mm10.mapq_30.2048.cool\",\n",
    "\"Bonev2017_ncx_CN_path\" : \"/project/fudenber_735/GEO/bonev_2017_GSE96107/distiller-0.3.1_mm10/results/coolers/HiC_ncx_CN_all.mm10.mapq_30.2048.cool\",\n",
    "\"Bonev2017_NPC_path\" : \"/project/fudenber_735/GEO/bonev_2017_GSE96107/distiller-0.3.1_mm10/results/coolers/HiC_NPC_all_mm10.mapq_30.1024.cool\",\n",
    "\"Bonev2017_ncx_NPC_path\" : \"/project/fudenber_735/GEO/bonev_2017_GSE96107/distiller-0.3.1_mm10/results/coolers/HiC_ncx_NPC_all.mm10.mapq_30.2048.cool\"}"
   ]
  },
  {
   "cell_type": "code",
   "execution_count": 10,
   "metadata": {},
   "outputs": [],
   "source": [
    "def average_pooling(mat, pool_size=2):\n",
    "    \"\"\"\n",
    "    Reduces the size of an 1153x1153 matrix to 513x513 using average pooling.\n",
    "    Handles matrices that are not perfectly divisible by 2.\n",
    "    \"\"\"\n",
    "    # Crop the matrix to 1152x1152 (since 1153 is not divisible by 2)\n",
    "    mat_cropped = mat[:1152, :1152]\n",
    "\n",
    "    # Apply average pooling manually by taking the average over 2x2 blocks\n",
    "    pooled_mat = np.zeros((513, 513))\n",
    "    for i in range(513):\n",
    "        for j in range(513):\n",
    "            pooled_mat[i, j] = np.mean(mat_cropped[i*2:i*2+2, j*2:j*2+2])\n",
    "    \n",
    "    return pooled_mat"
   ]
  },
  {
   "cell_type": "code",
   "execution_count": null,
   "metadata": {},
   "outputs": [],
   "source": [
    "all_data = []\n",
    "\n",
    "for index, row in fold0[:2].iterrows():\n",
    "    mseq_str = '%s:%d-%d' % (row.chr, row.start, row.stop)\n",
    "    \n",
    "    targets = []\n",
    "    \n",
    "    for path in cool_paths:\n",
    "        targets.append(get_target(cool_paths[path], padding, mseq_str))\n",
    "       \n",
    "    targets[4] = average_pooling(targets[4])\n",
    "        \n",
    "    targets = np.array(targets)\n",
    "    all_data.append(targets)\n",
    "    \n",
    "all_data = np.array(all_data)"
   ]
  },
  {
   "cell_type": "code",
   "execution_count": null,
   "metadata": {},
   "outputs": [],
   "source": []
  },
  {
   "cell_type": "code",
   "execution_count": null,
   "metadata": {},
   "outputs": [],
   "source": [
    "all_data.shape"
   ]
  }
 ],
 "metadata": {
  "kernelspec": {
   "display_name": "basenji_py3.9_tf2.15",
   "language": "python",
   "name": "basenji_py3.9_tf2.15"
  },
  "language_info": {
   "codemirror_mode": {
    "name": "ipython",
    "version": 3
   },
   "file_extension": ".py",
   "mimetype": "text/x-python",
   "name": "python",
   "nbconvert_exporter": "python",
   "pygments_lexer": "ipython3",
   "version": "3.9.18"
  }
 },
 "nbformat": 4,
 "nbformat_minor": 2
}
