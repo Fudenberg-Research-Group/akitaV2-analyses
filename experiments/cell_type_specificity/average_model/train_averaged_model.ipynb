{
 "cells": [
  {
   "cell_type": "code",
   "execution_count": 1,
   "metadata": {},
   "outputs": [
    {
     "name": "stderr",
     "output_type": "stream",
     "text": [
      "2024-10-15 11:29:40.477033: I tensorflow/core/util/port.cc:113] oneDNN custom operations are on. You may see slightly different numerical results due to floating-point round-off errors from different computation orders. To turn them off, set the environment variable `TF_ENABLE_ONEDNN_OPTS=0`.\n",
      "2024-10-15 11:29:40.503262: E external/local_xla/xla/stream_executor/cuda/cuda_dnn.cc:9261] Unable to register cuDNN factory: Attempting to register factory for plugin cuDNN when one has already been registered\n",
      "2024-10-15 11:29:40.503291: E external/local_xla/xla/stream_executor/cuda/cuda_fft.cc:607] Unable to register cuFFT factory: Attempting to register factory for plugin cuFFT when one has already been registered\n",
      "2024-10-15 11:29:40.504048: E external/local_xla/xla/stream_executor/cuda/cuda_blas.cc:1515] Unable to register cuBLAS factory: Attempting to register factory for plugin cuBLAS when one has already been registered\n",
      "2024-10-15 11:29:40.509535: I tensorflow/core/platform/cpu_feature_guard.cc:182] This TensorFlow binary is optimized to use available CPU instructions in performance-critical operations.\n",
      "To enable the following instructions: AVX2 AVX512F AVX512_VNNI AVX512_BF16 FMA, in other operations, rebuild TensorFlow with the appropriate compiler flags.\n",
      "2024-10-15 11:29:41.491261: W tensorflow/compiler/tf2tensorrt/utils/py_utils.cc:38] TF-TRT Warning: Could not find TensorRT\n"
     ]
    }
   ],
   "source": [
    "import json\n",
    "import os, sys\n",
    "sys.path.append(os.getcwd())\n",
    "\n",
    "from basenji import dataset, dna_io, seqnn"
   ]
  },
  {
   "cell_type": "code",
   "execution_count": 2,
   "metadata": {},
   "outputs": [],
   "source": [
    "import seaborn as sns\n",
    "import matplotlib.pyplot as plt"
   ]
  },
  {
   "cell_type": "code",
   "execution_count": 3,
   "metadata": {},
   "outputs": [],
   "source": [
    "data_dir = \"./tfrecords/\""
   ]
  },
  {
   "cell_type": "code",
   "execution_count": 4,
   "metadata": {},
   "outputs": [],
   "source": [
    "model_dir = \"./\""
   ]
  },
  {
   "cell_type": "code",
   "execution_count": 5,
   "metadata": {},
   "outputs": [
    {
     "name": "stderr",
     "output_type": "stream",
     "text": [
      "2024-10-15 11:29:49.621528: I tensorflow/core/common_runtime/gpu/gpu_device.cc:1929] Created device /job:localhost/replica:0/task:0/device:GPU:0 with 43626 MB memory:  -> device: 0, name: NVIDIA L40S, pci bus id: 0000:01:00.0, compute capability: 8.9\n"
     ]
    },
    {
     "name": "stdout",
     "output_type": "stream",
     "text": [
      "Model: \"model_1\"\n",
      "__________________________________________________________________________________________________\n",
      " Layer (type)                Output Shape                 Param #   Connected to                  \n",
      "==================================================================================================\n",
      " sequence (InputLayer)       [(None, 32768, 4)]           0         []                            \n",
      "                                                                                                  \n",
      " stochastic_reverse_complem  ((None, 32768, 4),           0         ['sequence[0][0]']            \n",
      " ent (StochasticReverseComp   ())                                                                 \n",
      " lement)                                                                                          \n",
      "                                                                                                  \n",
      " stochastic_shift (Stochast  (None, 32768, 4)             0         ['stochastic_reverse_complemen\n",
      " icShift)                                                           t[0][0]']                     \n",
      "                                                                                                  \n",
      " re_lu (ReLU)                (None, 32768, 4)             0         ['stochastic_shift[0][0]']    \n",
      "                                                                                                  \n",
      " conv1d (Conv1D)             (None, 32768, 96)            4224      ['re_lu[0][0]']               \n",
      "                                                                                                  \n",
      " batch_normalization (Batch  (None, 32768, 96)            384       ['conv1d[0][0]']              \n",
      " Normalization)                                                                                   \n",
      "                                                                                                  \n",
      " max_pooling1d (MaxPooling1  (None, 4096, 96)             0         ['batch_normalization[0][0]'] \n",
      " D)                                                                                               \n",
      "                                                                                                  \n",
      " re_lu_1 (ReLU)              (None, 4096, 96)             0         ['max_pooling1d[0][0]']       \n",
      "                                                                                                  \n",
      " conv1d_1 (Conv1D)           (None, 4096, 96)             46080     ['re_lu_1[0][0]']             \n",
      "                                                                                                  \n",
      " batch_normalization_1 (Bat  (None, 4096, 96)             384       ['conv1d_1[0][0]']            \n",
      " chNormalization)                                                                                 \n",
      "                                                                                                  \n",
      " max_pooling1d_1 (MaxPoolin  (None, 2048, 96)             0         ['batch_normalization_1[0][0]'\n",
      " g1D)                                                               ]                             \n",
      "                                                                                                  \n",
      " re_lu_2 (ReLU)              (None, 2048, 96)             0         ['max_pooling1d_1[0][0]']     \n",
      "                                                                                                  \n",
      " conv1d_2 (Conv1D)           (None, 2048, 96)             46080     ['re_lu_2[0][0]']             \n",
      "                                                                                                  \n",
      " batch_normalization_2 (Bat  (None, 2048, 96)             384       ['conv1d_2[0][0]']            \n",
      " chNormalization)                                                                                 \n",
      "                                                                                                  \n",
      " max_pooling1d_2 (MaxPoolin  (None, 1024, 96)             0         ['batch_normalization_2[0][0]'\n",
      " g1D)                                                               ]                             \n",
      "                                                                                                  \n",
      " re_lu_3 (ReLU)              (None, 1024, 96)             0         ['max_pooling1d_2[0][0]']     \n",
      "                                                                                                  \n",
      " conv1d_3 (Conv1D)           (None, 1024, 96)             46080     ['re_lu_3[0][0]']             \n",
      "                                                                                                  \n",
      " batch_normalization_3 (Bat  (None, 1024, 96)             384       ['conv1d_3[0][0]']            \n",
      " chNormalization)                                                                                 \n",
      "                                                                                                  \n",
      " max_pooling1d_3 (MaxPoolin  (None, 512, 96)              0         ['batch_normalization_3[0][0]'\n",
      " g1D)                                                               ]                             \n",
      "                                                                                                  \n",
      " re_lu_4 (ReLU)              (None, 512, 96)              0         ['max_pooling1d_3[0][0]']     \n",
      "                                                                                                  \n",
      " conv1d_4 (Conv1D)           (None, 512, 96)              46080     ['re_lu_4[0][0]']             \n",
      "                                                                                                  \n",
      " batch_normalization_4 (Bat  (None, 512, 96)              384       ['conv1d_4[0][0]']            \n",
      " chNormalization)                                                                                 \n",
      "                                                                                                  \n",
      " max_pooling1d_4 (MaxPoolin  (None, 256, 96)              0         ['batch_normalization_4[0][0]'\n",
      " g1D)                                                               ]                             \n",
      "                                                                                                  \n",
      " re_lu_5 (ReLU)              (None, 256, 96)              0         ['max_pooling1d_4[0][0]']     \n",
      "                                                                                                  \n",
      " conv1d_5 (Conv1D)           (None, 256, 96)              46080     ['re_lu_5[0][0]']             \n",
      "                                                                                                  \n",
      " batch_normalization_5 (Bat  (None, 256, 96)              384       ['conv1d_5[0][0]']            \n",
      " chNormalization)                                                                                 \n",
      "                                                                                                  \n",
      " max_pooling1d_5 (MaxPoolin  (None, 128, 96)              0         ['batch_normalization_5[0][0]'\n",
      " g1D)                                                               ]                             \n",
      "                                                                                                  \n",
      " re_lu_6 (ReLU)              (None, 128, 96)              0         ['max_pooling1d_5[0][0]']     \n",
      "                                                                                                  \n",
      " conv1d_6 (Conv1D)           (None, 128, 96)              46080     ['re_lu_6[0][0]']             \n",
      "                                                                                                  \n",
      " batch_normalization_6 (Bat  (None, 128, 96)              384       ['conv1d_6[0][0]']            \n",
      " chNormalization)                                                                                 \n",
      "                                                                                                  \n",
      " max_pooling1d_6 (MaxPoolin  (None, 64, 96)               0         ['batch_normalization_6[0][0]'\n",
      " g1D)                                                               ]                             \n",
      "                                                                                                  \n",
      " re_lu_7 (ReLU)              (None, 64, 96)               0         ['max_pooling1d_6[0][0]']     \n",
      "                                                                                                  \n",
      " conv1d_7 (Conv1D)           (None, 64, 48)               13824     ['re_lu_7[0][0]']             \n",
      "                                                                                                  \n",
      " batch_normalization_7 (Bat  (None, 64, 48)               192       ['conv1d_7[0][0]']            \n",
      " chNormalization)                                                                                 \n",
      "                                                                                                  \n",
      " re_lu_8 (ReLU)              (None, 64, 48)               0         ['batch_normalization_7[0][0]'\n",
      "                                                                    ]                             \n",
      "                                                                                                  \n",
      " conv1d_8 (Conv1D)           (None, 64, 96)               4608      ['re_lu_8[0][0]']             \n",
      "                                                                                                  \n",
      " batch_normalization_8 (Bat  (None, 64, 96)               384       ['conv1d_8[0][0]']            \n",
      " chNormalization)                                                                                 \n",
      "                                                                                                  \n",
      " dropout (Dropout)           (None, 64, 96)               0         ['batch_normalization_8[0][0]'\n",
      "                                                                    ]                             \n",
      "                                                                                                  \n",
      " add (Add)                   (None, 64, 96)               0         ['max_pooling1d_6[0][0]',     \n",
      "                                                                     'dropout[0][0]']             \n",
      "                                                                                                  \n",
      " re_lu_9 (ReLU)              (None, 64, 96)               0         ['add[0][0]']                 \n",
      "                                                                                                  \n",
      " conv1d_9 (Conv1D)           (None, 64, 64)               30720     ['re_lu_9[0][0]']             \n",
      "                                                                                                  \n",
      " batch_normalization_9 (Bat  (None, 64, 64)               256       ['conv1d_9[0][0]']            \n",
      " chNormalization)                                                                                 \n",
      "                                                                                                  \n",
      " re_lu_10 (ReLU)             (None, 64, 64)               0         ['batch_normalization_9[0][0]'\n",
      "                                                                    ]                             \n",
      "                                                                                                  \n",
      " one_to_two (OneToTwo)       (None, 64, 64, 64)           0         ['re_lu_10[0][0]']            \n",
      "                                                                                                  \n",
      " concat_dist2d (ConcatDist2  (None, 64, 64, 65)           0         ['one_to_two[0][0]']          \n",
      " D)                                                                                               \n",
      "                                                                                                  \n",
      " re_lu_11 (ReLU)             (None, 64, 64, 65)           0         ['concat_dist2d[0][0]']       \n",
      "                                                                                                  \n",
      " conv2d (Conv2D)             (None, 64, 64, 48)           28080     ['re_lu_11[0][0]']            \n",
      "                                                                                                  \n",
      " batch_normalization_10 (Ba  (None, 64, 64, 48)           192       ['conv2d[0][0]']              \n",
      " tchNormalization)                                                                                \n",
      "                                                                                                  \n",
      " symmetrize2d (Symmetrize2D  (None, 64, 64, 48)           0         ['batch_normalization_10[0][0]\n",
      " )                                                                  ']                            \n",
      "                                                                                                  \n",
      " re_lu_12 (ReLU)             (None, 64, 64, 48)           0         ['symmetrize2d[0][0]']        \n",
      "                                                                                                  \n",
      " conv2d_1 (Conv2D)           (None, 64, 64, 24)           10368     ['re_lu_12[0][0]']            \n",
      "                                                                                                  \n",
      " batch_normalization_11 (Ba  (None, 64, 64, 24)           96        ['conv2d_1[0][0]']            \n",
      " tchNormalization)                                                                                \n",
      "                                                                                                  \n",
      " re_lu_13 (ReLU)             (None, 64, 64, 24)           0         ['batch_normalization_11[0][0]\n",
      "                                                                    ']                            \n",
      "                                                                                                  \n",
      " conv2d_2 (Conv2D)           (None, 64, 64, 48)           1152      ['re_lu_13[0][0]']            \n",
      "                                                                                                  \n",
      " batch_normalization_12 (Ba  (None, 64, 64, 48)           192       ['conv2d_2[0][0]']            \n",
      " tchNormalization)                                                                                \n",
      "                                                                                                  \n",
      " dropout_1 (Dropout)         (None, 64, 64, 48)           0         ['batch_normalization_12[0][0]\n",
      "                                                                    ']                            \n",
      "                                                                                                  \n",
      " add_1 (Add)                 (None, 64, 64, 48)           0         ['symmetrize2d[0][0]',        \n",
      "                                                                     'dropout_1[0][0]']           \n",
      "                                                                                                  \n",
      " symmetrize2d_1 (Symmetrize  (None, 64, 64, 48)           0         ['add_1[0][0]']               \n",
      " 2D)                                                                                              \n",
      "                                                                                                  \n",
      " re_lu_14 (ReLU)             (None, 64, 64, 48)           0         ['symmetrize2d_1[0][0]']      \n",
      "                                                                                                  \n",
      " conv2d_3 (Conv2D)           (None, 64, 64, 24)           10368     ['re_lu_14[0][0]']            \n",
      "                                                                                                  \n",
      " batch_normalization_13 (Ba  (None, 64, 64, 24)           96        ['conv2d_3[0][0]']            \n",
      " tchNormalization)                                                                                \n",
      "                                                                                                  \n",
      " re_lu_15 (ReLU)             (None, 64, 64, 24)           0         ['batch_normalization_13[0][0]\n",
      "                                                                    ']                            \n",
      "                                                                                                  \n",
      " conv2d_4 (Conv2D)           (None, 64, 64, 48)           1152      ['re_lu_15[0][0]']            \n",
      "                                                                                                  \n",
      " batch_normalization_14 (Ba  (None, 64, 64, 48)           192       ['conv2d_4[0][0]']            \n",
      " tchNormalization)                                                                                \n",
      "                                                                                                  \n",
      " dropout_2 (Dropout)         (None, 64, 64, 48)           0         ['batch_normalization_14[0][0]\n",
      "                                                                    ']                            \n",
      "                                                                                                  \n",
      " add_2 (Add)                 (None, 64, 64, 48)           0         ['symmetrize2d_1[0][0]',      \n",
      "                                                                     'dropout_2[0][0]']           \n",
      "                                                                                                  \n",
      " symmetrize2d_2 (Symmetrize  (None, 64, 64, 48)           0         ['add_2[0][0]']               \n",
      " 2D)                                                                                              \n",
      "                                                                                                  \n",
      " re_lu_16 (ReLU)             (None, 64, 64, 48)           0         ['symmetrize2d_2[0][0]']      \n",
      "                                                                                                  \n",
      " conv2d_5 (Conv2D)           (None, 64, 64, 24)           10368     ['re_lu_16[0][0]']            \n",
      "                                                                                                  \n",
      " batch_normalization_15 (Ba  (None, 64, 64, 24)           96        ['conv2d_5[0][0]']            \n",
      " tchNormalization)                                                                                \n",
      "                                                                                                  \n",
      " re_lu_17 (ReLU)             (None, 64, 64, 24)           0         ['batch_normalization_15[0][0]\n",
      "                                                                    ']                            \n",
      "                                                                                                  \n",
      " conv2d_6 (Conv2D)           (None, 64, 64, 48)           1152      ['re_lu_17[0][0]']            \n",
      "                                                                                                  \n",
      " batch_normalization_16 (Ba  (None, 64, 64, 48)           192       ['conv2d_6[0][0]']            \n",
      " tchNormalization)                                                                                \n",
      "                                                                                                  \n",
      " dropout_3 (Dropout)         (None, 64, 64, 48)           0         ['batch_normalization_16[0][0]\n",
      "                                                                    ']                            \n",
      "                                                                                                  \n",
      " add_3 (Add)                 (None, 64, 64, 48)           0         ['symmetrize2d_2[0][0]',      \n",
      "                                                                     'dropout_3[0][0]']           \n",
      "                                                                                                  \n",
      " symmetrize2d_3 (Symmetrize  (None, 64, 64, 48)           0         ['add_3[0][0]']               \n",
      " 2D)                                                                                              \n",
      "                                                                                                  \n",
      " re_lu_18 (ReLU)             (None, 64, 64, 48)           0         ['symmetrize2d_3[0][0]']      \n",
      "                                                                                                  \n",
      " conv2d_7 (Conv2D)           (None, 64, 64, 24)           10368     ['re_lu_18[0][0]']            \n",
      "                                                                                                  \n",
      " batch_normalization_17 (Ba  (None, 64, 64, 24)           96        ['conv2d_7[0][0]']            \n",
      " tchNormalization)                                                                                \n",
      "                                                                                                  \n",
      " re_lu_19 (ReLU)             (None, 64, 64, 24)           0         ['batch_normalization_17[0][0]\n",
      "                                                                    ']                            \n",
      "                                                                                                  \n",
      " conv2d_8 (Conv2D)           (None, 64, 64, 48)           1152      ['re_lu_19[0][0]']            \n",
      "                                                                                                  \n",
      " batch_normalization_18 (Ba  (None, 64, 64, 48)           192       ['conv2d_8[0][0]']            \n",
      " tchNormalization)                                                                                \n",
      "                                                                                                  \n",
      " dropout_4 (Dropout)         (None, 64, 64, 48)           0         ['batch_normalization_18[0][0]\n",
      "                                                                    ']                            \n",
      "                                                                                                  \n",
      " add_4 (Add)                 (None, 64, 64, 48)           0         ['symmetrize2d_3[0][0]',      \n",
      "                                                                     'dropout_4[0][0]']           \n",
      "                                                                                                  \n",
      " symmetrize2d_4 (Symmetrize  (None, 64, 64, 48)           0         ['add_4[0][0]']               \n",
      " 2D)                                                                                              \n",
      "                                                                                                  \n",
      " re_lu_20 (ReLU)             (None, 64, 64, 48)           0         ['symmetrize2d_4[0][0]']      \n",
      "                                                                                                  \n",
      " conv2d_9 (Conv2D)           (None, 64, 64, 24)           10368     ['re_lu_20[0][0]']            \n",
      "                                                                                                  \n",
      " batch_normalization_19 (Ba  (None, 64, 64, 24)           96        ['conv2d_9[0][0]']            \n",
      " tchNormalization)                                                                                \n",
      "                                                                                                  \n",
      " re_lu_21 (ReLU)             (None, 64, 64, 24)           0         ['batch_normalization_19[0][0]\n",
      "                                                                    ']                            \n",
      "                                                                                                  \n",
      " conv2d_10 (Conv2D)          (None, 64, 64, 48)           1152      ['re_lu_21[0][0]']            \n",
      "                                                                                                  \n",
      " batch_normalization_20 (Ba  (None, 64, 64, 48)           192       ['conv2d_10[0][0]']           \n",
      " tchNormalization)                                                                                \n",
      "                                                                                                  \n",
      " dropout_5 (Dropout)         (None, 64, 64, 48)           0         ['batch_normalization_20[0][0]\n",
      "                                                                    ']                            \n",
      "                                                                                                  \n",
      " add_5 (Add)                 (None, 64, 64, 48)           0         ['symmetrize2d_4[0][0]',      \n",
      "                                                                     'dropout_5[0][0]']           \n",
      "                                                                                                  \n",
      " symmetrize2d_5 (Symmetrize  (None, 64, 64, 48)           0         ['add_5[0][0]']               \n",
      " 2D)                                                                                              \n",
      "                                                                                                  \n",
      " re_lu_22 (ReLU)             (None, 64, 64, 48)           0         ['symmetrize2d_5[0][0]']      \n",
      "                                                                                                  \n",
      " conv2d_11 (Conv2D)          (None, 64, 64, 24)           10368     ['re_lu_22[0][0]']            \n",
      "                                                                                                  \n",
      " batch_normalization_21 (Ba  (None, 64, 64, 24)           96        ['conv2d_11[0][0]']           \n",
      " tchNormalization)                                                                                \n",
      "                                                                                                  \n",
      " re_lu_23 (ReLU)             (None, 64, 64, 24)           0         ['batch_normalization_21[0][0]\n",
      "                                                                    ']                            \n",
      "                                                                                                  \n",
      " conv2d_12 (Conv2D)          (None, 64, 64, 48)           1152      ['re_lu_23[0][0]']            \n",
      "                                                                                                  \n",
      " batch_normalization_22 (Ba  (None, 64, 64, 48)           192       ['conv2d_12[0][0]']           \n",
      " tchNormalization)                                                                                \n",
      "                                                                                                  \n",
      " dropout_6 (Dropout)         (None, 64, 64, 48)           0         ['batch_normalization_22[0][0]\n",
      "                                                                    ']                            \n",
      "                                                                                                  \n",
      " add_6 (Add)                 (None, 64, 64, 48)           0         ['symmetrize2d_5[0][0]',      \n",
      "                                                                     'dropout_6[0][0]']           \n",
      "                                                                                                  \n",
      " symmetrize2d_6 (Symmetrize  (None, 64, 64, 48)           0         ['add_6[0][0]']               \n",
      " 2D)                                                                                              \n",
      "                                                                                                  \n",
      " cropping2d (Cropping2D)     (None, 64, 64, 48)           0         ['symmetrize2d_6[0][0]']      \n",
      "                                                                                                  \n",
      " upper_tri (UpperTri)        (None, 1953, 48)             0         ['cropping2d[0][0]']          \n",
      "                                                                                                  \n",
      " dense (Dense)               (None, 1953, 1)              49        ['upper_tri[0][0]']           \n",
      "                                                                                                  \n",
      " switch_reverse_triu (Switc  (None, 1953, 1)              0         ['dense[0][0]',               \n",
      " hReverseTriu)                                                       'stochastic_reverse_complemen\n",
      "                                                                    t[0][1]']                     \n",
      "                                                                                                  \n",
      "==================================================================================================\n",
      "Total params: 432545 (1.65 MB)\n",
      "Trainable params: 429825 (1.64 MB)\n",
      "Non-trainable params: 2720 (10.62 KB)\n",
      "__________________________________________________________________________________________________\n"
     ]
    }
   ],
   "source": [
    "params_file = model_dir+'params.json' # architecture\n",
    "with open(params_file, 'r') as file:\n",
    "    params = json.load(file)\n",
    "    model_architecture = params['model']\n",
    "seqnn_model = seqnn.SeqNN(model_architecture)\n",
    "seqnn_model.model.summary()"
   ]
  },
  {
   "cell_type": "code",
   "execution_count": null,
   "metadata": {},
   "outputs": [],
   "source": [
    "# python train.py -k -o ./train_out/ ./params.json ."
   ]
  },
  {
   "cell_type": "code",
   "execution_count": 6,
   "metadata": {},
   "outputs": [],
   "source": [
    "data_stats_file = './statistics.json'\n",
    "with open(data_stats_file) as data_stats_open:\n",
    "    data_stats = json.load(data_stats_open)"
   ]
  },
  {
   "cell_type": "code",
   "execution_count": 7,
   "metadata": {},
   "outputs": [],
   "source": [
    "hic_diags =  data_stats['diagonal_offset']\n",
    "target_crop = data_stats['crop_bp'] // data_stats['pool_width']\n",
    "target_length1 = data_stats['seq_length'] // data_stats['pool_width']\n",
    "target_length1_cropped = target_length1 - 2*target_crop"
   ]
  },
  {
   "cell_type": "code",
   "execution_count": 8,
   "metadata": {},
   "outputs": [
    {
     "data": {
      "text/plain": [
       "64"
      ]
     },
     "execution_count": 8,
     "metadata": {},
     "output_type": "execute_result"
    }
   ],
   "source": [
    "target_length1_cropped"
   ]
  },
  {
   "cell_type": "code",
   "execution_count": 9,
   "metadata": {},
   "outputs": [],
   "source": [
    "split_label='train'"
   ]
  },
  {
   "cell_type": "code",
   "execution_count": 10,
   "metadata": {},
   "outputs": [],
   "source": [
    "train_data = dataset.SeqDataset(data_dir=\"./\", split_label=split_label, batch_size=8)\n",
    "train_inputs, train_targets = train_data.numpy(return_inputs=True, return_outputs=True)"
   ]
  },
  {
   "cell_type": "code",
   "execution_count": 11,
   "metadata": {},
   "outputs": [
    {
     "data": {
      "text/plain": [
       "(400, 1953, 1)"
      ]
     },
     "execution_count": 11,
     "metadata": {},
     "output_type": "execute_result"
    }
   ],
   "source": [
    "train_targets.shape"
   ]
  },
  {
   "cell_type": "code",
   "execution_count": 12,
   "metadata": {},
   "outputs": [],
   "source": [
    "train_index = 0\n",
    "train_target = train_targets[train_index:train_index+1,:,:]\n",
    "train_target2 = train_targets[train_index+1:train_index+2,:,:]\n",
    "train_target3 = train_targets[train_index+2:train_index+3,:,:]"
   ]
  },
  {
   "cell_type": "code",
   "execution_count": 13,
   "metadata": {},
   "outputs": [
    {
     "data": {
      "text/plain": [
       "(1, 1953, 1)"
      ]
     },
     "execution_count": 13,
     "metadata": {},
     "output_type": "execute_result"
    }
   ],
   "source": [
    "train_target.shape"
   ]
  },
  {
   "cell_type": "code",
   "execution_count": 14,
   "metadata": {},
   "outputs": [
    {
     "name": "stderr",
     "output_type": "stream",
     "text": [
      "/home1/smaruj/miniconda3/envs/basenji_py3.9_tf2.15/lib/python3.9/site-packages/cooltools/lib/numutils.py:652: NumbaDeprecationWarning: The 'nopython' keyword argument was not supplied to the 'numba.jit' decorator. The implicit default value for this argument is currently False, but it will be changed to True in Numba 0.59.0. See https://numba.readthedocs.io/en/stable/reference/deprecation.html#deprecation-of-object-mode-fall-back-behaviour-when-using-jit for details.\n",
      "  def iterative_correction_symmetric(\n",
      "/home1/smaruj/miniconda3/envs/basenji_py3.9_tf2.15/lib/python3.9/site-packages/cooltools/lib/numutils.py:727: NumbaDeprecationWarning: The 'nopython' keyword argument was not supplied to the 'numba.jit' decorator. The implicit default value for this argument is currently False, but it will be changed to True in Numba 0.59.0. See https://numba.readthedocs.io/en/stable/reference/deprecation.html#deprecation-of-object-mode-fall-back-behaviour-when-using-jit for details.\n",
      "  def iterative_correction_asymmetric(x, max_iter=1000, tol=1e-5, verbose=False):\n"
     ]
    }
   ],
   "source": [
    "import numpy as np\n",
    "from cooltools.lib.numutils import set_diag\n",
    "\n",
    "def from_upper_triu(vector_repr, matrix_len, num_diags):\n",
    "    z = np.zeros((matrix_len,matrix_len))\n",
    "    triu_tup = np.triu_indices(matrix_len,num_diags)\n",
    "    z[triu_tup] = vector_repr\n",
    "    for i in range(-num_diags+1,num_diags):\n",
    "        set_diag(z, np.nan, i)\n",
    "    return z + z.T"
   ]
  },
  {
   "cell_type": "code",
   "execution_count": 15,
   "metadata": {},
   "outputs": [
    {
     "data": {
      "image/png": "[encoded data removed]",
      "text/plain": [
       "<Figure size 640x480 with 6 Axes>"
      ]
     },
     "metadata": {},
     "output_type": "display_data"
    }
   ],
   "source": [
    "# plot target \n",
    "vmin=-0.6; vmax=0.6\n",
    "plt.subplot(131) \n",
    "mat = from_upper_triu(train_target[:,:,0], target_length1_cropped, hic_diags)\n",
    "im = plt.matshow(mat, fignum=False, cmap= 'RdBu_r', vmax=vmax, vmin=vmin)\n",
    "plt.colorbar(im, fraction=.04, pad = 0.05, ticks=[-2,-1, 0, 1,2]);\n",
    "plt.title('seq 1')\n",
    "\n",
    "plt.subplot(132) \n",
    "mat = from_upper_triu(train_target2[:,:,0], target_length1_cropped, hic_diags)\n",
    "im = plt.matshow(mat, fignum=False, cmap= 'RdBu_r', vmax=vmax, vmin=vmin)\n",
    "plt.colorbar(im, fraction=.04, pad = 0.05, ticks=[-2,-1, 0, 1,2]);\n",
    "plt.title('seq 2')\n",
    "\n",
    "plt.subplot(133) \n",
    "mat = from_upper_triu(train_target3[:,:,0], target_length1_cropped, hic_diags)\n",
    "im = plt.matshow(mat, fignum=False, cmap= 'RdBu_r', vmax=vmax, vmin=vmin)\n",
    "plt.colorbar(im, fraction=.04, pad = 0.05, ticks=[-2,-1, 0, 1,2]);\n",
    "plt.title('seq 3')\n",
    "\n",
    "plt.tight_layout()"
   ]
  },
  {
   "cell_type": "code",
   "execution_count": null,
   "metadata": {},
   "outputs": [],
   "source": [
    "# python train.py -k -o ./train_out/ ./params.json ."
   ]
  },
  {
   "cell_type": "code",
   "execution_count": 16,
   "metadata": {},
   "outputs": [],
   "source": [
    "# specify model parameters json to have only two targets\n",
    "params_file = './params.json' # architecture\n",
    "with open(params_file) as params_open:\n",
    "    params = json.load(params_open)\n",
    "    model_arch = params['model'] # Retrieve model's architecture from params.json"
   ]
  },
  {
   "cell_type": "code",
   "execution_count": 17,
   "metadata": {},
   "outputs": [],
   "source": [
    "restore_weights = True"
   ]
  },
  {
   "cell_type": "code",
   "execution_count": 18,
   "metadata": {},
   "outputs": [],
   "source": [
    "human_model = seqnn.SeqNN(model_arch)\n",
    "\n",
    "if restore_weights:\n",
    "    weights_file  = './train_out/model_best.h5' # model_weights\n",
    "    human_model.restore(weights_file)"
   ]
  },
  {
   "cell_type": "code",
   "execution_count": 19,
   "metadata": {},
   "outputs": [
    {
     "data": {
      "text/plain": [
       "(400, 32768, 4)"
      ]
     },
     "execution_count": 19,
     "metadata": {},
     "output_type": "execute_result"
    }
   ],
   "source": [
    "train_inputs.shape"
   ]
  },
  {
   "cell_type": "code",
   "execution_count": 20,
   "metadata": {},
   "outputs": [
    {
     "name": "stderr",
     "output_type": "stream",
     "text": [
      "2024-10-15 11:30:14.843842: I external/local_xla/xla/stream_executor/cuda/cuda_dnn.cc:454] Loaded cuDNN version 8904\n"
     ]
    },
    {
     "name": "stdout",
     "output_type": "stream",
     "text": [
      "1/1 [==============================] - 1s 1s/step\n",
      "1/1 [==============================] - 0s 14ms/step\n",
      "1/1 [==============================] - 0s 14ms/step\n"
     ]
    }
   ],
   "source": [
    "pred_from_seq = human_model.model.predict(train_inputs[0:1,:,:])\n",
    "pred_from_seq2 = human_model.model.predict(train_inputs[1:2,:,:])\n",
    "pred_from_seq3 = human_model.model.predict(train_inputs[2:3,:,:])"
   ]
  },
  {
   "cell_type": "code",
   "execution_count": 21,
   "metadata": {},
   "outputs": [
    {
     "data": {
      "image/png": "[encoded data removed]",
      "text/plain": [
       "<Figure size 640x480 with 6 Axes>"
      ]
     },
     "metadata": {},
     "output_type": "display_data"
    }
   ],
   "source": [
    "vmin=-0.6; vmax=0.6\n",
    "\n",
    "# plot pred\n",
    "plt.subplot(131) \n",
    "mat = from_upper_triu(pred_from_seq[:,:,0], target_length1_cropped, hic_diags)\n",
    "im = plt.matshow(mat, fignum=False, cmap= 'RdBu_r', vmax=vmax, vmin=vmin)\n",
    "plt.colorbar(im, fraction=.04, pad = 0.05, ticks=[-2,-1, 0, 1,2]);\n",
    "plt.title('seq 1')\n",
    "\n",
    "plt.subplot(132) \n",
    "mat = from_upper_triu(pred_from_seq2[:,:,0], target_length1_cropped, hic_diags)\n",
    "im = plt.matshow(mat, fignum=False, cmap= 'RdBu_r', vmax=vmax, vmin=vmin)\n",
    "plt.colorbar(im, fraction=.04, pad = 0.05, ticks=[-2,-1, 0, 1,2]);\n",
    "plt.title('seq 2')\n",
    "\n",
    "plt.subplot(133) \n",
    "mat = from_upper_triu(pred_from_seq3[:,:,0], target_length1_cropped, hic_diags)\n",
    "im = plt.matshow(mat, fignum=False, cmap= 'RdBu_r', vmax=vmax, vmin=vmin)\n",
    "plt.colorbar(im, fraction=.04, pad = 0.05, ticks=[-2,-1, 0, 1,2]);\n",
    "plt.title('seq 3')\n",
    "\n",
    "plt.tight_layout()"
   ]
  }
 ],
 "metadata": {
  "kernelspec": {
   "display_name": "basenji_py3.9_tf2.15",
   "language": "python",
   "name": "basenji_py3.9_tf2.15"
  },
  "language_info": {
   "codemirror_mode": {
    "name": "ipython",
    "version": 3
   },
   "file_extension": ".py",
   "mimetype": "text/x-python",
   "name": "python",
   "nbconvert_exporter": "python",
   "pygments_lexer": "ipython3",
   "version": "3.9.18"
  }
 },
 "nbformat": 4,
 "nbformat_minor": 2
}
