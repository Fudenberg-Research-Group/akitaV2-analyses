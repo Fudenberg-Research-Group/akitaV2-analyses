{
 "cells": [
  {
   "cell_type": "code",
   "execution_count": 12,
   "id": "04f4d047-95d4-4530-848d-2673ea129451",
   "metadata": {},
   "outputs": [
    {
     "name": "stdout",
     "output_type": "stream",
     "text": [
      "0.4.1\n"
     ]
    }
   ],
   "source": [
    "import pandas as pd\n",
    "import bioframe\n",
    "import json\n",
    "print(bioframe.__version__)\n",
    "\n",
    "chrmlens = bioframe.read_chromsizes('/project/fudenber_735/genomes/mm10/mm10.chrom.sizes.reduced')\n"
   ]
  },
  {
   "cell_type": "code",
   "execution_count": 9,
   "id": "ddd472e9-73c3-4ae1-9844-5c649e573f5c",
   "metadata": {},
   "outputs": [],
   "source": [
    "base_dir = '/project/fudenber_735/tensorflow_models/akita/v2/models/'\n",
    "head_i = 1 #mouse\n",
    "model_num = 7\n",
    "model_dir = base_dir+\"f\"+str(model_num)+\"c0/train/\"\n",
    "params_file = model_dir+'params.json'\n",
    "model_file  = model_dir+'/model'+str(head_i)+'_best.h5'\n",
    "with open(params_file) as params_open:\n",
    "    params = json.load(params_open)\n",
    "    params_model = params['model']\n",
    "    params_train = params['train']\n",
    "seq_length = params_model['seq_length']"
   ]
  },
  {
   "cell_type": "code",
   "execution_count": 10,
   "id": "c62e1594-8cf6-4a46-a479-22961a61ee07",
   "metadata": {},
   "outputs": [],
   "source": [
    "# reading SMF binding site table\n",
    "bs = pd.read_table('binding.sites.tsv', sep='\\t')"
   ]
  },
  {
   "cell_type": "code",
   "execution_count": 11,
   "id": "5fb2de5e-7767-4c10-8a79-e62698dd452a",
   "metadata": {},
   "outputs": [
    {
     "name": "stdout",
     "output_type": "stream",
     "text": [
      "(10015, 12)\n"
     ]
    }
   ],
   "source": [
    "bs.rename(columns={'seqnames':'chrom'},inplace=True)\n",
    "bs = bs[bs.chrom.isin(['chrX','chrY']) == False]\n",
    "print(bs.shape)"
   ]
  },
  {
   "cell_type": "code",
   "execution_count": 5,
   "id": "084e792b-c1d9-4b43-bbda-987b34a4e630",
   "metadata": {},
   "outputs": [
    {
     "name": "stdout",
     "output_type": "stream",
     "text": [
      "10015 (9991, 12)\n"
     ]
    }
   ],
   "source": [
    "bs_filtered = []\n",
    "s = 0\n",
    "for chrm in chrmlens.index:\n",
    "    if chrm in ['chrY','chrX','chrM']: continue\n",
    "    bs_chrm = bs.loc[bs['chrom']==chrm]\n",
    "    s += len(bs_chrm)\n",
    "    bs_filtered.append(bs_chrm.loc[ \n",
    "        (bs_chrm['end'].values + seq_length//2 + 100) < chrmlens[chrm],:])\n",
    "bs_filtered = pd.concat(bs_filtered)\n",
    "bs_filtered.reset_index(inplace=True, drop=True)\n",
    "print(s, bs_filtered.shape)"
   ]
  },
  {
   "cell_type": "code",
   "execution_count": 6,
   "id": "e4f9018b-9804-4ea2-8327-a100b7a725be",
   "metadata": {},
   "outputs": [],
   "source": [
    "bs_filtered.to_csv('binding.sites.filtered.mm10.tsv', sep='\\t',index=False)"
   ]
  }
 ],
 "metadata": {
  "kernelspec": {
   "display_name": "open2c",
   "language": "python",
   "name": "python3"
  },
  "language_info": {
   "codemirror_mode": {
    "name": "ipython",
    "version": 3
   },
   "file_extension": ".py",
   "mimetype": "text/x-python",
   "name": "python",
   "nbconvert_exporter": "python",
   "pygments_lexer": "ipython3",
   "version": "3.8.13"
  }
 },
 "nbformat": 4,
 "nbformat_minor": 5
}
