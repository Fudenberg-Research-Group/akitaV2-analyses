{
 "cells": [
  {
   "cell_type": "code",
   "execution_count": 1,
   "id": "aa3d8f11-b506-46e0-b6c9-c9445f699e63",
   "metadata": {},
   "outputs": [],
   "source": [
    "import pandas as pd\n",
    "import numpy as np"
   ]
  },
  {
   "cell_type": "code",
   "execution_count": 2,
   "id": "b5a533cf-bf76-4880-aef1-25208da5754e",
   "metadata": {},
   "outputs": [],
   "source": [
    "bad_windows_file = '/project/fudenber_735/backup/DNN_HiC/akita_paper_data/akita_mm10/200213_gaps_mm10_binSize2048_numconseq10.bed'"
   ]
  },
  {
   "cell_type": "code",
   "execution_count": 3,
   "id": "137cdbb3-592b-409b-87ec-a302a45f62e7",
   "metadata": {},
   "outputs": [],
   "source": [
    "bad_windows = pd.read_csv(bad_windows_file, sep=\"\\t\", names=[\"chr\", \"start\", \"end\"])"
   ]
  },
  {
   "cell_type": "code",
   "execution_count": 4,
   "id": "343f38a8-b11b-421b-83ff-5aef7a24e26d",
   "metadata": {},
   "outputs": [],
   "source": [
    "def generate_good_windows(df_bad_windows):\n",
    "    \n",
    "    # Initialize a list to hold the good windows\n",
    "    good_windows = []\n",
    "    \n",
    "    # Loop through the bad windows to create good windows\n",
    "    for i in range(1, len(df_bad_windows)):\n",
    "        prev_end = df_bad_windows.iloc[i-1]['end']\n",
    "        curr_start = df_bad_windows.iloc[i]['start']\n",
    "        \n",
    "        # Create a good window if there's a gap\n",
    "        if prev_end < curr_start:\n",
    "            good_windows.append([df_bad_windows.iloc[i-1]['chr'], prev_end, curr_start])\n",
    "    \n",
    "    # Convert the good windows list to a DataFrame\n",
    "    df_good = pd.DataFrame(good_windows, columns=['chr', 'start', 'end'])\n",
    "    \n",
    "    return df_good"
   ]
  },
  {
   "cell_type": "code",
   "execution_count": 5,
   "id": "646fd1dd-f180-41da-a8f3-d52147c49d3b",
   "metadata": {},
   "outputs": [],
   "source": [
    "# bad_windows"
   ]
  },
  {
   "cell_type": "code",
   "execution_count": 6,
   "id": "41f497c4-ac01-413c-8a9c-f8f70cb670b2",
   "metadata": {},
   "outputs": [],
   "source": [
    "good_windows = generate_good_windows(bad_windows)"
   ]
  },
  {
   "cell_type": "code",
   "execution_count": null,
   "id": "c7d97eb1-ae72-4c18-991e-ac8d2ca8b680",
   "metadata": {},
   "outputs": [],
   "source": [
    "# good_windows"
   ]
  },
  {
   "cell_type": "code",
   "execution_count": 7,
   "id": "5cdc86dc-11aa-495d-995c-258af503604c",
   "metadata": {},
   "outputs": [],
   "source": [
    "chr1 = good_windows[good_windows[\"chr\"] == \"chr1\"]"
   ]
  },
  {
   "cell_type": "code",
   "execution_count": 8,
   "id": "21587af2-095c-479c-abac-34746dea455a",
   "metadata": {},
   "outputs": [],
   "source": [
    "df = chr1[:2]"
   ]
  },
  {
   "cell_type": "code",
   "execution_count": 9,
   "id": "a1332742-cae0-4846-b4ab-afd27a851901",
   "metadata": {},
   "outputs": [
    {
     "data": {
      "text/html": [
       "<div>\n",
       "<style scoped>\n",
       "    .dataframe tbody tr th:only-of-type {\n",
       "        vertical-align: middle;\n",
       "    }\n",
       "\n",
       "    .dataframe tbody tr th {\n",
       "        vertical-align: top;\n",
       "    }\n",
       "\n",
       "    .dataframe thead th {\n",
       "        text-align: right;\n",
       "    }\n",
       "</style>\n",
       "<table border=\"1\" class=\"dataframe\">\n",
       "  <thead>\n",
       "    <tr style=\"text-align: right;\">\n",
       "      <th></th>\n",
       "      <th>chr</th>\n",
       "      <th>start</th>\n",
       "      <th>end</th>\n",
       "    </tr>\n",
       "  </thead>\n",
       "  <tbody>\n",
       "    <tr>\n",
       "      <th>0</th>\n",
       "      <td>chr1</td>\n",
       "      <td>3000320</td>\n",
       "      <td>22433792</td>\n",
       "    </tr>\n",
       "    <tr>\n",
       "      <th>1</th>\n",
       "      <td>chr1</td>\n",
       "      <td>22466560</td>\n",
       "      <td>44365824</td>\n",
       "    </tr>\n",
       "  </tbody>\n",
       "</table>\n",
       "</div>"
      ],
      "text/plain": [
       "    chr     start       end\n",
       "0  chr1   3000320  22433792\n",
       "1  chr1  22466560  44365824"
      ]
     },
     "execution_count": 9,
     "metadata": {},
     "output_type": "execute_result"
    }
   ],
   "source": [
    "df"
   ]
  },
  {
   "cell_type": "code",
   "execution_count": 10,
   "id": "98ad4ed1-2af1-46bc-9129-ca086eb84c79",
   "metadata": {},
   "outputs": [],
   "source": [
    "seq_length = 1310720\n",
    "bin_size = 2048\n",
    "split = 10"
   ]
  },
  {
   "cell_type": "code",
   "execution_count": 11,
   "id": "b0515210-0b51-4027-9712-7cc4126db7f1",
   "metadata": {},
   "outputs": [],
   "source": [
    "def create_expanded_df(df):\n",
    "    # Initialize lists to store the resulting rows\n",
    "    chr_list = []\n",
    "    start_list = []\n",
    "    end_list = []\n",
    "    genome_window_start_list = []\n",
    "\n",
    "    # Iterate through each good window\n",
    "    for good_window in df.itertuples(index=False):\n",
    "        num_jumps = (good_window.end - good_window.start - seq_length) // bin_size\n",
    "\n",
    "        for bin_shift_index in range(num_jumps):\n",
    "            genome_window_start = good_window.start + bin_shift_index * bin_size\n",
    "\n",
    "            # Append the values to the respective lists\n",
    "            chr_list.append(good_window.chr)\n",
    "            start_list.append(good_window.start)\n",
    "            end_list.append(good_window.end)\n",
    "            genome_window_start_list.append(genome_window_start)\n",
    "                \n",
    "    # Create the resulting DataFrame\n",
    "    expanded_df = pd.DataFrame({\n",
    "        'chr': chr_list,\n",
    "        'start': start_list,\n",
    "        'end': end_list,\n",
    "        'genome_window_start': genome_window_start_list,\n",
    "    })\n",
    "\n",
    "    return expanded_df"
   ]
  },
  {
   "cell_type": "code",
   "execution_count": 12,
   "id": "a1ebaf34-95f9-46c1-ab91-749a641277d1",
   "metadata": {},
   "outputs": [],
   "source": [
    "expanded_df = create_expanded_df(df)"
   ]
  },
  {
   "cell_type": "code",
   "execution_count": 13,
   "id": "171f2f51-3a51-4952-a450-d32bd5ab16f9",
   "metadata": {},
   "outputs": [
    {
     "data": {
      "text/html": [
       "<div>\n",
       "<style scoped>\n",
       "    .dataframe tbody tr th:only-of-type {\n",
       "        vertical-align: middle;\n",
       "    }\n",
       "\n",
       "    .dataframe tbody tr th {\n",
       "        vertical-align: top;\n",
       "    }\n",
       "\n",
       "    .dataframe thead th {\n",
       "        text-align: right;\n",
       "    }\n",
       "</style>\n",
       "<table border=\"1\" class=\"dataframe\">\n",
       "  <thead>\n",
       "    <tr style=\"text-align: right;\">\n",
       "      <th></th>\n",
       "      <th>chr</th>\n",
       "      <th>start</th>\n",
       "      <th>end</th>\n",
       "      <th>genome_window_start</th>\n",
       "    </tr>\n",
       "  </thead>\n",
       "  <tbody>\n",
       "    <tr>\n",
       "      <th>0</th>\n",
       "      <td>chr1</td>\n",
       "      <td>3000320</td>\n",
       "      <td>22433792</td>\n",
       "      <td>3000320</td>\n",
       "    </tr>\n",
       "    <tr>\n",
       "      <th>1</th>\n",
       "      <td>chr1</td>\n",
       "      <td>3000320</td>\n",
       "      <td>22433792</td>\n",
       "      <td>3002368</td>\n",
       "    </tr>\n",
       "    <tr>\n",
       "      <th>2</th>\n",
       "      <td>chr1</td>\n",
       "      <td>3000320</td>\n",
       "      <td>22433792</td>\n",
       "      <td>3004416</td>\n",
       "    </tr>\n",
       "    <tr>\n",
       "      <th>3</th>\n",
       "      <td>chr1</td>\n",
       "      <td>3000320</td>\n",
       "      <td>22433792</td>\n",
       "      <td>3006464</td>\n",
       "    </tr>\n",
       "    <tr>\n",
       "      <th>4</th>\n",
       "      <td>chr1</td>\n",
       "      <td>3000320</td>\n",
       "      <td>22433792</td>\n",
       "      <td>3008512</td>\n",
       "    </tr>\n",
       "    <tr>\n",
       "      <th>...</th>\n",
       "      <td>...</td>\n",
       "      <td>...</td>\n",
       "      <td>...</td>\n",
       "      <td>...</td>\n",
       "    </tr>\n",
       "    <tr>\n",
       "      <th>18897</th>\n",
       "      <td>chr1</td>\n",
       "      <td>22466560</td>\n",
       "      <td>44365824</td>\n",
       "      <td>43044864</td>\n",
       "    </tr>\n",
       "    <tr>\n",
       "      <th>18898</th>\n",
       "      <td>chr1</td>\n",
       "      <td>22466560</td>\n",
       "      <td>44365824</td>\n",
       "      <td>43046912</td>\n",
       "    </tr>\n",
       "    <tr>\n",
       "      <th>18899</th>\n",
       "      <td>chr1</td>\n",
       "      <td>22466560</td>\n",
       "      <td>44365824</td>\n",
       "      <td>43048960</td>\n",
       "    </tr>\n",
       "    <tr>\n",
       "      <th>18900</th>\n",
       "      <td>chr1</td>\n",
       "      <td>22466560</td>\n",
       "      <td>44365824</td>\n",
       "      <td>43051008</td>\n",
       "    </tr>\n",
       "    <tr>\n",
       "      <th>18901</th>\n",
       "      <td>chr1</td>\n",
       "      <td>22466560</td>\n",
       "      <td>44365824</td>\n",
       "      <td>43053056</td>\n",
       "    </tr>\n",
       "  </tbody>\n",
       "</table>\n",
       "<p>18902 rows × 4 columns</p>\n",
       "</div>"
      ],
      "text/plain": [
       "        chr     start       end  genome_window_start\n",
       "0      chr1   3000320  22433792              3000320\n",
       "1      chr1   3000320  22433792              3002368\n",
       "2      chr1   3000320  22433792              3004416\n",
       "3      chr1   3000320  22433792              3006464\n",
       "4      chr1   3000320  22433792              3008512\n",
       "...     ...       ...       ...                  ...\n",
       "18897  chr1  22466560  44365824             43044864\n",
       "18898  chr1  22466560  44365824             43046912\n",
       "18899  chr1  22466560  44365824             43048960\n",
       "18900  chr1  22466560  44365824             43051008\n",
       "18901  chr1  22466560  44365824             43053056\n",
       "\n",
       "[18902 rows x 4 columns]"
      ]
     },
     "execution_count": 13,
     "metadata": {},
     "output_type": "execute_result"
    }
   ],
   "source": [
    "expanded_df"
   ]
  },
  {
   "cell_type": "code",
   "execution_count": 14,
   "id": "02236b4b-4890-4e96-96f1-924aa65560f6",
   "metadata": {},
   "outputs": [],
   "source": [
    "expanded_df.to_csv('chr1_2windows.tsv', sep=\"\\t\", index=False) "
   ]
  }
 ],
 "metadata": {
  "kernelspec": {
   "display_name": "basenji_py3.9_tf2.15",
   "language": "python",
   "name": "basenji_py3.9_tf2.15"
  },
  "language_info": {
   "codemirror_mode": {
    "name": "ipython",
    "version": 3
   },
   "file_extension": ".py",
   "mimetype": "text/x-python",
   "name": "python",
   "nbconvert_exporter": "python",
   "pygments_lexer": "ipython3",
   "version": "3.9.18"
  }
 },
 "nbformat": 4,
 "nbformat_minor": 5
}
