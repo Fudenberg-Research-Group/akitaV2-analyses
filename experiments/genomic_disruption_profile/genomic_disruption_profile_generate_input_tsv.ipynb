{
 "cells": [
  {
   "cell_type": "code",
   "execution_count": 1,
   "id": "aa3d8f11-b506-46e0-b6c9-c9445f699e63",
   "metadata": {},
   "outputs": [],
   "source": [
    "import pandas as pd\n",
    "import numpy as np"
   ]
  },
  {
   "cell_type": "markdown",
   "id": "d25ee109-124e-4c81-bf9e-50bf5d4e5ca7",
   "metadata": {},
   "source": [
    "### Functions"
   ]
  },
  {
   "cell_type": "code",
   "execution_count": 2,
   "id": "f541a759-8300-4d42-bf56-aa32107474ae",
   "metadata": {},
   "outputs": [],
   "source": [
    "def generate_good_windows(df_bad_windows):\n",
    "    \n",
    "    # Initialize a list to hold the good windows\n",
    "    good_windows = []\n",
    "    \n",
    "    # Loop through the bad windows to create good windows\n",
    "    for i in range(1, len(df_bad_windows)):\n",
    "        prev_end = df_bad_windows.iloc[i-1]['end']\n",
    "        curr_start = df_bad_windows.iloc[i]['start']\n",
    "        \n",
    "        # Create a good window if there's a gap\n",
    "        if prev_end < curr_start:\n",
    "            good_windows.append([df_bad_windows.iloc[i-1]['chr'], prev_end, curr_start])\n",
    "    \n",
    "    # Convert the good windows list to a DataFrame\n",
    "    df_good = pd.DataFrame(good_windows, columns=['chr', 'start', 'end'])\n",
    "    \n",
    "    return df_good\n",
    "\n",
    "\n",
    "def create_expanded_df(df):\n",
    "    # Initialize lists to store the resulting rows\n",
    "    chr_list = []\n",
    "    start_list = []\n",
    "    end_list = []\n",
    "    genome_window_start_list = []\n",
    "\n",
    "    # Iterate through each good window\n",
    "    for good_window in df.itertuples(index=False):\n",
    "        num_jumps = (good_window.end - good_window.start - seq_length) // bin_size\n",
    "\n",
    "        for bin_shift_index in range(num_jumps):\n",
    "            genome_window_start = good_window.start + bin_shift_index * bin_size\n",
    "\n",
    "            # Append the values to the respective lists\n",
    "            chr_list.append(good_window.chr)\n",
    "            start_list.append(good_window.start)\n",
    "            end_list.append(good_window.end)\n",
    "            genome_window_start_list.append(genome_window_start)\n",
    "                \n",
    "    # Create the resulting DataFrame\n",
    "    expanded_df = pd.DataFrame({\n",
    "        'chr': chr_list,\n",
    "        'start': start_list,\n",
    "        'end': end_list,\n",
    "        'genome_window_start': genome_window_start_list,\n",
    "    })\n",
    "\n",
    "    return expanded_df"
   ]
  },
  {
   "cell_type": "markdown",
   "id": "bd24ca5f-f2f6-47bd-a9d2-f47b4c57f489",
   "metadata": {},
   "source": [
    "### Reading table with gap windows"
   ]
  },
  {
   "cell_type": "code",
   "execution_count": 3,
   "id": "b5a533cf-bf76-4880-aef1-25208da5754e",
   "metadata": {},
   "outputs": [],
   "source": [
    "bad_windows_file = '/project/fudenber_735/backup/DNN_HiC/akita_paper_data/akita_mm10/200213_gaps_mm10_binSize2048_numconseq10.bed'\n",
    "bad_windows = pd.read_csv(bad_windows_file, sep=\"\\t\", names=[\"chr\", \"start\", \"end\"])"
   ]
  },
  {
   "cell_type": "markdown",
   "id": "92816b36-bb2d-418c-8a62-c2e49ca4056a",
   "metadata": {},
   "source": [
    "### Generating complementary windows (no gaps)"
   ]
  },
  {
   "cell_type": "code",
   "execution_count": 4,
   "id": "41f497c4-ac01-413c-8a9c-f8f70cb670b2",
   "metadata": {},
   "outputs": [],
   "source": [
    "good_windows = generate_good_windows(bad_windows)\n",
    "\n",
    "# focusing on first two good windows on chr1\n",
    "chr1 = good_windows[good_windows[\"chr\"] == \"chr1\"]\n",
    "df = chr1[:2]"
   ]
  },
  {
   "cell_type": "code",
   "execution_count": 5,
   "id": "98ad4ed1-2af1-46bc-9129-ca086eb84c79",
   "metadata": {},
   "outputs": [],
   "source": [
    "# parameters\n",
    "seq_length = 1310720\n",
    "bin_size = 2048\n",
    "split = 10 # shifting by 1/10 bin"
   ]
  },
  {
   "cell_type": "markdown",
   "id": "881ecc32-4c09-4355-ac1f-da6bc3bd3630",
   "metadata": {},
   "source": [
    "### Creating table with all the prediction windows"
   ]
  },
  {
   "cell_type": "code",
   "execution_count": 6,
   "id": "a1ebaf34-95f9-46c1-ab91-749a641277d1",
   "metadata": {},
   "outputs": [],
   "source": [
    "expanded_df = create_expanded_df(df)\n",
    "# expanded_df.to_csv('chr1_2windows.tsv', sep=\"\\t\", index=False) "
   ]
  }
 ],
 "metadata": {
  "kernelspec": {
   "display_name": "basenji_py3.9_tf2.15",
   "language": "python",
   "name": "basenji_py3.9_tf2.15"
  },
  "language_info": {
   "codemirror_mode": {
    "name": "ipython",
    "version": 3
   },
   "file_extension": ".py",
   "mimetype": "text/x-python",
   "name": "python",
   "nbconvert_exporter": "python",
   "pygments_lexer": "ipython3",
   "version": "3.9.18"
  }
 },
 "nbformat": 4,
 "nbformat_minor": 5
}
