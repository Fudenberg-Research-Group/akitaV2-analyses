{
 "cells": [
  {
   "cell_type": "code",
   "execution_count": 1,
   "id": "cc3ed173-f912-4599-b362-f73397468d09",
   "metadata": {},
   "outputs": [],
   "source": [
    "import pandas as pd\n",
    "import numpy as np\n",
    "import bioframe as bf"
   ]
  },
  {
   "cell_type": "markdown",
   "id": "d95d590e-6933-4d7a-b363-d462f518d083",
   "metadata": {},
   "source": [
    "## Overlapping Akita V1 and Akita V2 test sets"
   ]
  },
  {
   "cell_type": "code",
   "execution_count": 2,
   "id": "3fcd9e5a-94fc-4fb5-812b-fc1a2ce9c9c9",
   "metadata": {},
   "outputs": [],
   "source": [
    "v1_data_split_path = \"/project/fudenber_735/tensorflow_models/akita/v1/data/sequences.bed\""
   ]
  },
  {
   "cell_type": "code",
   "execution_count": 3,
   "id": "0ecaddce-828b-4de4-b2ae-8f62ffc0b10f",
   "metadata": {},
   "outputs": [],
   "source": [
    "v2_data_split_path = \"/project/fudenber_735/tensorflow_models/akita/v2/data/hg38/sequences.bed\""
   ]
  },
  {
   "cell_type": "code",
   "execution_count": 4,
   "id": "2448c9b0-6bd1-4d21-be96-58c15a3894db",
   "metadata": {},
   "outputs": [],
   "source": [
    "# reading test data for V1\n",
    "sequences_V1 = pd.read_csv(v1_data_split_path, sep='\\t', names=['chr','start','stop','type'])\n",
    "sequences_test_V1 = sequences_V1.iloc[sequences_V1['type'].values=='test']\n",
    "sequences_test_V1.reset_index(inplace=True, drop=True)"
   ]
  },
  {
   "cell_type": "code",
   "execution_count": 5,
   "id": "e2b63529-d707-4193-b45d-76568d64c0d1",
   "metadata": {},
   "outputs": [],
   "source": [
    "sequences_V2 = pd.read_csv(v2_data_split_path, sep='\\t', names=['chr','start','stop','type'])"
   ]
  },
  {
   "cell_type": "code",
   "execution_count": 6,
   "id": "72f0f709-22e2-45a8-8dc0-511413a18d28",
   "metadata": {},
   "outputs": [],
   "source": [
    "df_overlap = bf.overlap(\n",
    "        sequences_test_V1, sequences_V2, how=\"inner\", suffixes=(\"_v1\", \"_v2\"), cols1=[\"chr\", \"start\", \"stop\"], cols2=[\"chr\", \"start\", \"stop\"],\n",
    "    )"
   ]
  },
  {
   "cell_type": "code",
   "execution_count": 7,
   "id": "70a0c485-41d8-4db5-a003-edcafc94b726",
   "metadata": {},
   "outputs": [],
   "source": [
    "# # Function to check if all values in \"type_v2\" for each \"start_v1\" are the same\n",
    "# def check_uniformity(group):\n",
    "#     return group['type_v2'].nunique() == 1"
   ]
  },
  {
   "cell_type": "code",
   "execution_count": 8,
   "id": "2adbae44-ccb8-466a-a450-643cbd7def19",
   "metadata": {},
   "outputs": [],
   "source": [
    "# # Grouping by \"start_v1\" and applying the check\n",
    "# uniformity_check = df_overlap.groupby('start_v1').apply(check_uniformity)"
   ]
  },
  {
   "cell_type": "code",
   "execution_count": 9,
   "id": "566d177a-e19d-4bdb-b8b7-a7b4c2a84bcb",
   "metadata": {},
   "outputs": [],
   "source": [
    "# -> not all start_v1 have only one type_v2 value,therefore I am gonna find the closest window in test set for V2"
   ]
  },
  {
   "cell_type": "code",
   "execution_count": 10,
   "id": "0de4864c-1089-4a1f-9c16-65dcd6d66782",
   "metadata": {},
   "outputs": [],
   "source": [
    "# finding the closest windows\n",
    "df_overlap[\"v1_midpoint\"] = df_overlap[\"start_v1\"] + (0.5*(df_overlap[\"stop_v1\"] - df_overlap[\"start_v1\"]))\n",
    "df_overlap[\"v2_midpoint\"] = df_overlap[\"start_v2\"] + (0.5*(df_overlap[\"stop_v2\"] - df_overlap[\"start_v2\"]))\n",
    "df_overlap[\"midpoint_dist\"] = np.abs(df_overlap[\"v1_midpoint\"]-df_overlap[\"v2_midpoint\"])"
   ]
  },
  {
   "cell_type": "code",
   "execution_count": 11,
   "id": "692db81f-d1c0-45f2-a01f-870f27bb3a84",
   "metadata": {},
   "outputs": [],
   "source": [
    "# selecting v2 windows with minimal distance from the v1 windows\n",
    "df_sorted = df_overlap.sort_values(by=['chr_v1', 'start_v1', 'stop_v1', 'midpoint_dist'], ascending=[True, True, True, True])\n",
    "df_unique = df_sorted.groupby(['chr_v1', 'start_v1', 'stop_v1']).first().reset_index()"
   ]
  },
  {
   "cell_type": "code",
   "execution_count": 12,
   "id": "df01cc40-418a-477a-a1dc-5856a2b3cce4",
   "metadata": {},
   "outputs": [],
   "source": [
    "# renaming columns that are gonna be saved\n",
    "df_unique = df_unique.rename(columns={\"chr_v1\" : \"chr\",\n",
    "                                     \"start_v1\" : \"start\",\n",
    "                                     \"stop_v1\" : \"stop\"})"
   ]
  },
  {
   "cell_type": "code",
   "execution_count": 13,
   "id": "62d49fe5-367b-4f2e-b262-ab51b60c77b8",
   "metadata": {},
   "outputs": [],
   "source": [
    "df_unique = df_unique[[\"chr\", \"start\", \"stop\", \"type_v2\"]]"
   ]
  },
  {
   "cell_type": "code",
   "execution_count": 14,
   "id": "7a828a79-6d4f-48e7-b462-aa568b632823",
   "metadata": {},
   "outputs": [],
   "source": [
    "# df_unique.to_csv(\"v1_v2_sequences.tsv\", sep=\"\\t\", index=False, header=True)"
   ]
  },
  {
   "cell_type": "code",
   "execution_count": null,
   "id": "6af511f7-f22c-41f9-8afc-18ff29522c8b",
   "metadata": {},
   "outputs": [],
   "source": []
  }
 ],
 "metadata": {
  "kernelspec": {
   "display_name": "basenji_py3.9_tf2.15",
   "language": "python",
   "name": "basenji_py3.9_tf2.15"
  },
  "language_info": {
   "codemirror_mode": {
    "name": "ipython",
    "version": 3
   },
   "file_extension": ".py",
   "mimetype": "text/x-python",
   "name": "python",
   "nbconvert_exporter": "python",
   "pygments_lexer": "ipython3",
   "version": "3.9.18"
  }
 },
 "nbformat": 4,
 "nbformat_minor": 5
}
