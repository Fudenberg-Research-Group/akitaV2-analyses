{
 "cells": [
  {
   "cell_type": "code",
   "execution_count": null,
   "id": "b0fc4b1a-ed44-4fd8-bb16-4c4932e7086a",
   "metadata": {},
   "outputs": [],
   "source": [
    "import pandas as pd\n",
    "import numpy as np\n",
    "import seaborn as sns\n",
    "import matplotlib.pyplot as plt\n",
    "plt.style.use(\"/home1/smaruj/akitaX1-analyses/figures/plot_styles/global_plotting_style.mplstyle\")\n",
    "from scipy import stats"
   ]
  },
  {
   "cell_type": "code",
   "execution_count": null,
   "id": "11483b07-3ef1-45d6-b3e9-a21f78c9ab97",
   "metadata": {},
   "outputs": [],
   "source": [
    "# no big improvement\n",
    "# chrom = \"chr1\"\n",
    "# start = 73918464\n",
    "# end = 74967040\n",
    "\n",
    "# significant improvement\n",
    "chrom = \"chr9\"\n",
    "start = 132390912\n",
    "end = 133439488"
   ]
  },
  {
   "cell_type": "code",
   "execution_count": null,
   "id": "29e6e591-431d-4079-8782-1cd7ec6b2570",
   "metadata": {},
   "outputs": [],
   "source": [
    "desired_dim = 512"
   ]
  },
  {
   "cell_type": "code",
   "execution_count": null,
   "id": "eedf3a76-939b-4d12-bb28-3ddcbd2b805c",
   "metadata": {},
   "outputs": [],
   "source": [
    "# target\n",
    "# target = np.load(\"./matrices/chr1_73787392-75098112_map_tg0_target.npz\")[\"target\"]\n",
    "target = np.load(\"./matrices/chr9_132259840-133570560_map_tg0_target.npz\")[\"target\"]"
   ]
  },
  {
   "cell_type": "code",
   "execution_count": null,
   "id": "3ed5eabc-d4a8-4225-9536-e5fac4559fe0",
   "metadata": {},
   "outputs": [],
   "source": [
    "# V1 prediction\n",
    "V1_pred = np.load(f'./matrices/{chrom}_{start}-{end}_map_v1_tg0.npz')[\"prediction\"]"
   ]
  },
  {
   "cell_type": "code",
   "execution_count": null,
   "id": "b3ecc7da-374e-4254-ab28-c4120cc25591",
   "metadata": {},
   "outputs": [],
   "source": [
    "padding_width = (desired_dim - V1_pred.shape[0]) // 2"
   ]
  },
  {
   "cell_type": "code",
   "execution_count": null,
   "id": "93c5aec0-d71c-421d-93f7-05c57052c0c7",
   "metadata": {},
   "outputs": [],
   "source": [
    "V1_pred = np.pad(V1_pred, pad_width=padding_width, mode='constant', constant_values=0)"
   ]
  },
  {
   "cell_type": "code",
   "execution_count": null,
   "id": "38710891-66d7-46b5-9023-9dc8f1b70af6",
   "metadata": {},
   "outputs": [],
   "source": [
    "# V2 prediction\n",
    "V2_pred = np.load(f'./matrices/{chrom}_{start}-{end}_map_v2_tg0.npz')[\"prediction\"]"
   ]
  },
  {
   "cell_type": "code",
   "execution_count": null,
   "id": "f0bcd186-e8a0-44f0-949c-ac0a7c03b523",
   "metadata": {},
   "outputs": [],
   "source": [
    "# Plotting\n",
    "fig, axs = plt.subplots(1, 3, figsize=(11, 5))\n",
    "\n",
    "# Plot the first matrix\n",
    "ax1 = plt.subplot(1, 3, 1)\n",
    "sns.heatmap(\n",
    "    target,\n",
    "    vmin=-0.6,\n",
    "    vmax=0.6,\n",
    "    cbar=False,\n",
    "    cmap=\"RdBu_r\",\n",
    "    square=True,\n",
    "    xticklabels=False,\n",
    "    yticklabels=False,\n",
    ")\n",
    "\n",
    "# Plot the second matrix\n",
    "ax2 = plt.subplot(1, 3, 2)\n",
    "sns.heatmap(\n",
    "    V1_pred,\n",
    "    vmin=-0.6,\n",
    "    vmax=0.6,\n",
    "    cbar=False,\n",
    "    cmap=\"RdBu_r\",\n",
    "    square=True,\n",
    "    xticklabels=False,\n",
    "    yticklabels=False,\n",
    ")\n",
    "\n",
    "# Plot the third matrix\n",
    "ax3 = plt.subplot(1, 3, 3)\n",
    "sns.heatmap(\n",
    "    V2_pred,\n",
    "    vmin=-0.6,\n",
    "    vmax=0.6,\n",
    "    cbar=False,\n",
    "    cmap=\"RdBu_r\",\n",
    "    square=True,\n",
    "    xticklabels=False,\n",
    "    yticklabels=False,\n",
    ")\n",
    "\n",
    "for ax, col in zip(axs, [\"target\", \"AkitaV1 prediction\", \"AkitaV2 prediction\"]):\n",
    "    ax.set_title(col, size=16)\n",
    "\n",
    "a = np.array([[-0.6,0.6]])\n",
    "img = plt.imshow(a, cmap=\"RdBu_r\")\n",
    "\n",
    "cb_ax = fig.add_axes([0.915, 0.265, 0.015, 0.435])\n",
    "cbar = fig.colorbar(img,orientation='vertical',cax=cb_ax)\n",
    "for t in cbar.ax.get_yticklabels():\n",
    "     t.set_fontsize(10)\n",
    "\n",
    "plt.savefig(f\"./plots/{chrom}_{start}-{end}_maps_comparison.pdf\", format=\"pdf\", bbox_inches=\"tight\")\n",
    "plt.show()"
   ]
  },
  {
   "cell_type": "code",
   "execution_count": null,
   "id": "815e2b7b-6a64-4bac-a41e-71971053413a",
   "metadata": {},
   "outputs": [],
   "source": [
    "print(\"done!\")"
   ]
  }
 ],
 "metadata": {
  "kernelspec": {
   "display_name": "basenji_py3.9_tf2.15",
   "language": "python",
   "name": "basenji_py3.9_tf2.15"
  },
  "language_info": {
   "codemirror_mode": {
    "name": "ipython",
    "version": 3
   },
   "file_extension": ".py",
   "mimetype": "text/x-python",
   "name": "python",
   "nbconvert_exporter": "python",
   "pygments_lexer": "ipython3",
   "version": "3.9.18"
  }
 },
 "nbformat": 4,
 "nbformat_minor": 5
}
