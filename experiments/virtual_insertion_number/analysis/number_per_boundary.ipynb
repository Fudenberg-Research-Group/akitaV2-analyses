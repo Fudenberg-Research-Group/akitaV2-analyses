{
 "cells": [
  {
   "cell_type": "code",
   "execution_count": 1,
   "id": "1981c448-1950-4ce3-b1c1-7a661da9578d",
   "metadata": {},
   "outputs": [],
   "source": [
    "import bioframe as bf\n",
    "import pandas as pd\n",
    "import matplotlib.pyplot as plt\n",
    "import seaborn as sns\n",
    "\n",
    "from akita_utils.df_utils import (\n",
    "    filter_by_chrmlen,\n",
    "    filter_by_overlap_num,\n",
    "    filter_by_chromID,\n",
    ")\n",
    "from akita_utils.format_io import read_rmsk"
   ]
  },
  {
   "cell_type": "markdown",
   "id": "fc24bc30-43a1-4edd-8a39-42f7df8e8d15",
   "metadata": {},
   "source": [
    "### Reading the CTCF and RMSK tables"
   ]
  },
  {
   "cell_type": "code",
   "execution_count": 2,
   "id": "a77c34c2-d1d6-4d98-bdc0-7f8602b0fe8c",
   "metadata": {},
   "outputs": [],
   "source": [
    "# paths and parameters\n",
    "jaspar_file = \"/project/fudenber_735/motifs/mm10/jaspar/MA0139.1.tsv.gz\"\n",
    "ctcf_filter_expand_window = 60\n",
    "rmsk_file = \"/project/fudenber_735/genomes/mm10/database/rmsk.txt.gz\"\n",
    "rmsk_filter_expand_window = 20\n",
    "chrom_sizes_file = \"/project/fudenber_735/genomes/mm10/mm10.chrom.sizes.reduced\"\n",
    "autosomes_only = True\n",
    "seq_length = 1310720\n",
    "\n",
    "if autosomes_only:\n",
    "    chromID_to_drop = [\"chrX\", \"chrY\", \"chrM\"]\n",
    "\n",
    "jaspar_df = bf.read_table(jaspar_file, schema=\"jaspar\", skiprows=1)\n",
    "if autosomes_only:\n",
    "    jaspar_df = filter_by_chromID(jaspar_df, chrID_to_drop=chromID_to_drop)\n",
    "jaspar_df.reset_index(drop=True, inplace=True)\n",
    "\n",
    "# read rmsk file\n",
    "rmsk_df = read_rmsk(rmsk_file)"
   ]
  },
  {
   "cell_type": "markdown",
   "id": "f833b01c-9ed7-4e5c-a0ef-3602dd432be6",
   "metadata": {},
   "source": [
    "### Reading the boundaries table"
   ]
  },
  {
   "cell_type": "code",
   "execution_count": 3,
   "id": "610c0f10-4ad5-4528-8f40-e7438feadc6d",
   "metadata": {},
   "outputs": [],
   "source": [
    "# paths and parameters\n",
    "boundaries_file = \"/project/fudenber_735/GEO/bonev_2017_GSE96107/distiller-0.3.1_mm10/results/coolers/features/bonev2017.HiC_ES.mm10.mapq_30.1000.window_200000.insulation\"\n",
    "boundary_strength_thresh = 0.25\n",
    "boundary_insulation_thresh = 0\n",
    "\n",
    "boundaries = pd.read_csv(boundaries_file, sep=\"\\t\")\n",
    "\n",
    "window_size = boundaries_file.split(\"window_\")[1].split(\".\")[0]\n",
    "boundary_key, insulation_key = (\n",
    "    f\"boundary_strength_{window_size}\",\n",
    "    f\"log2_insulation_score_{window_size}\",\n",
    ")\n",
    "\n",
    "boundaries = boundaries.iloc[\n",
    "        (boundaries[boundary_key].values > boundary_strength_thresh)\n",
    "        * (\n",
    "            boundaries[insulation_key].values\n",
    "            < boundary_insulation_thresh\n",
    "        )\n",
    "    ]\n",
    "\n",
    "if autosomes_only:\n",
    "    boundaries = filter_by_chromID(boundaries, chrID_to_drop=chromID_to_drop)\n",
    "\n",
    "boundaries = filter_by_chrmlen(\n",
    "    boundaries,\n",
    "    chrom_sizes_file,\n",
    "    seq_length,\n",
    ")\n",
    "\n",
    "boundaries.reset_index(drop=True, inplace=True)"
   ]
  },
  {
   "cell_type": "markdown",
   "id": "2d8d59a6-d8a0-436e-97ca-7e85c1c5d830",
   "metadata": {},
   "source": [
    "### Overlapping CTCFs with boundaries"
   ]
  },
  {
   "cell_type": "code",
   "execution_count": 4,
   "id": "525e0ab7-3cc0-479d-8e88-10a569a63b30",
   "metadata": {},
   "outputs": [],
   "source": [
    "# overlapping CTCF df with boundaries df\n",
    "df_overlap = bf.overlap(\n",
    "    boundaries, jaspar_df, suffixes=(\"\", \"_2\"), return_index=False\n",
    ")\n",
    "\n",
    "# removing rows with no start and end info\n",
    "df_overlap = df_overlap[pd.notnull(df_overlap[\"start_2\"])]\n",
    "df_overlap = df_overlap[pd.notnull(df_overlap[\"end_2\"])]\n",
    "\n",
    "df_overlap[\"span\"] = (\n",
    "    df_overlap[\"start\"].astype(str) + \"-\" + df_overlap[\"end\"].astype(str)\n",
    ")\n",
    "\n",
    "df_keys = [\n",
    "    \"chrom\",\n",
    "    \"start_2\",\n",
    "    \"end_2\",\n",
    "    \"span\",\n",
    "    \"score_2\",\n",
    "    \"strand_2\",\n",
    "    insulation_key,\n",
    "    boundary_key,\n",
    "]\n",
    "\n",
    "df_overlap = df_overlap[df_keys]\n",
    "\n",
    "# renaming\n",
    "df_overlap = df_overlap.rename(\n",
    "    columns={\n",
    "        \"span\": \"boundary_span\",\n",
    "        \"score_2\": \"jaspar_score\",\n",
    "        \"start_2\": \"start\",\n",
    "        \"end_2\": \"end\",\n",
    "        \"strand_2\": \"strand\",\n",
    "    }\n",
    ")\n",
    "\n",
    "# filtering by CTCF\n",
    "B_filtered_df = filter_by_overlap_num(\n",
    "    df_overlap,\n",
    "    filter_df=jaspar_df,\n",
    "    expand_window=ctcf_filter_expand_window,\n",
    "    max_overlap_num=1,\n",
    ")\n",
    "\n",
    "# filtering by rmsk\n",
    "B_filtered_df = filter_by_overlap_num(\n",
    "    B_filtered_df,\n",
    "    rmsk_df,\n",
    "    expand_window=rmsk_filter_expand_window,\n",
    "    working_df_cols=[\"chrom\", \"start\", \"end\"],\n",
    ")"
   ]
  },
  {
   "cell_type": "code",
   "execution_count": 5,
   "id": "bf15acd2-4a99-4ae9-a4f8-ec53bfcf57b1",
   "metadata": {},
   "outputs": [],
   "source": [
    "boundary_ctcf_counts = B_filtered_df.groupby('boundary_span').size()"
   ]
  },
  {
   "cell_type": "code",
   "execution_count": 6,
   "id": "3d3b125b-f487-44ae-9ee7-7543dbefc90a",
   "metadata": {},
   "outputs": [
    {
     "name": "stdout",
     "output_type": "stream",
     "text": [
      "Total number of boundaries: 7560\n",
      "Minimum CTCF sites per boundary: 1\n",
      "Maximum CTCF sites per boundary: 15\n",
      "Average CTCF sites per boundary: 2.7019299499642604\n",
      "Median CTCF sites per boundary: 2.0\n"
     ]
    }
   ],
   "source": [
    "min_ctcf_sites = boundary_ctcf_counts.min()\n",
    "max_ctcf_sites = boundary_ctcf_counts.max()\n",
    "avg_ctcf_sites = boundary_ctcf_counts.mean()\n",
    "median_ctcf_sites = boundary_ctcf_counts.median()\n",
    "\n",
    "print(f\"Total number of boundaries: {len(B_filtered_df)}\")\n",
    "print(f\"Minimum CTCF sites per boundary: {min_ctcf_sites}\")\n",
    "print(f\"Maximum CTCF sites per boundary: {max_ctcf_sites}\")\n",
    "print(f\"Average CTCF sites per boundary: {avg_ctcf_sites}\")\n",
    "print(f\"Median CTCF sites per boundary: {median_ctcf_sites}\")"
   ]
  },
  {
   "cell_type": "code",
   "execution_count": 7,
   "id": "71feacfe-4495-475a-ad7f-553dee58360d",
   "metadata": {},
   "outputs": [
    {
     "data": {
      "image/png": "[encoded data removed]",
      "text/plain": [
       "<Figure size 1000x600 with 1 Axes>"
      ]
     },
     "metadata": {},
     "output_type": "display_data"
    }
   ],
   "source": [
    "# Plot the distribution\n",
    "plt.figure(figsize=(10, 6))\n",
    "sns.histplot(boundary_ctcf_counts, bins=30, kde=False)\n",
    "plt.title('Distribution of CTCF Sites per Boundary')\n",
    "plt.xlabel('Number of CTCF Sites per Boundary')\n",
    "plt.ylabel('Frequency')\n",
    "plt.axvline(avg_ctcf_sites, color='r', linestyle='--', label=f'Average: {avg_ctcf_sites:.2f}')\n",
    "plt.axvline(median_ctcf_sites, color='g', linestyle='--', label=f'Median: {median_ctcf_sites}')\n",
    "plt.legend()\n",
    "plt.show()"
   ]
  },
  {
   "cell_type": "code",
   "execution_count": 8,
   "id": "8ca4e814-1136-4bb8-9dde-bd76ff28a055",
   "metadata": {},
   "outputs": [
    {
     "name": "stdout",
     "output_type": "stream",
     "text": [
      "Percentage of boundaries with more than 6 CTCF sites: 5.11%\n",
      "Percentage of boundaries with more than 10 CTCF sites: 0.36%\n"
     ]
    }
   ],
   "source": [
    "# Calculate the percentages\n",
    "total_boundaries = len(boundary_ctcf_counts)\n",
    "more_than_6 = (boundary_ctcf_counts > 6).sum()\n",
    "more_than_10 = (boundary_ctcf_counts > 10).sum()\n",
    "\n",
    "percent_more_than_6 = (more_than_6 / total_boundaries) * 100\n",
    "percent_more_than_10 = (more_than_10 / total_boundaries) * 100\n",
    "\n",
    "print(f\"Percentage of boundaries with more than 6 CTCF sites: {percent_more_than_6:.2f}%\")\n",
    "print(f\"Percentage of boundaries with more than 10 CTCF sites: {percent_more_than_10:.2f}%\")"
   ]
  }
 ],
 "metadata": {
  "kernelspec": {
   "display_name": "basenji_py3.9_tf2.15",
   "language": "python",
   "name": "basenji_py3.9_tf2.15"
  },
  "language_info": {
   "codemirror_mode": {
    "name": "ipython",
    "version": 3
   },
   "file_extension": ".py",
   "mimetype": "text/x-python",
   "name": "python",
   "nbconvert_exporter": "python",
   "pygments_lexer": "ipython3",
   "version": "3.9.18"
  }
 },
 "nbformat": 4,
 "nbformat_minor": 5
}
