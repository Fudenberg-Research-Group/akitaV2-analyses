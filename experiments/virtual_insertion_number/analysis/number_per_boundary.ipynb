{
 "cells": [
  {
   "cell_type": "code",
   "execution_count": 1,
   "id": "1981c448-1950-4ce3-b1c1-7a661da9578d",
   "metadata": {},
   "outputs": [],
   "source": [
    "from optparse import OptionParser\n",
    "import json\n",
    "import bioframe as bf\n",
    "import numpy as np\n",
    "import pandas as pd\n",
    "import os\n",
    "from akita_utils.tsv_utils import (\n",
    "    filter_by_chrmlen,\n",
    "    filter_by_overlap_num,\n",
    "    filter_by_chromID,\n",
    ")\n",
    "from akita_utils.format_io import read_jaspar_to_numpy, read_rmsk"
   ]
  },
  {
   "cell_type": "code",
   "execution_count": 19,
   "id": "18467d31-520d-4354-9901-c8c350b239cf",
   "metadata": {},
   "outputs": [],
   "source": [
    "import matplotlib.pyplot as plt\n",
    "import seaborn as sns"
   ]
  },
  {
   "cell_type": "code",
   "execution_count": 2,
   "id": "a77c34c2-d1d6-4d98-bdc0-7f8602b0fe8c",
   "metadata": {},
   "outputs": [],
   "source": [
    "jaspar_file = \"/project/fudenber_735/motifs/mm10/jaspar/MA0139.1.tsv.gz\"\n",
    "ctcf_filter_expand_window = 60\n",
    "rmsk_file = \"/project/fudenber_735/genomes/mm10/database/rmsk.txt.gz\"\n",
    "rmsk_filter_expand_window = 20\n",
    "chrom_sizes_file = \"/project/fudenber_735/genomes/mm10/mm10.chrom.sizes.reduced\"\n",
    "autosomes_only = True\n",
    "\n",
    "if autosomes_only:\n",
    "    chromID_to_drop = [\"chrX\", \"chrY\", \"chrM\"]\n",
    "\n",
    "seq_length = 1310720"
   ]
  },
  {
   "cell_type": "code",
   "execution_count": 3,
   "id": "6abfa2b8-343d-465c-9825-a0e834dd46c7",
   "metadata": {},
   "outputs": [],
   "source": [
    "jaspar_df = bf.read_table(jaspar_file, schema=\"jaspar\", skiprows=1)\n",
    "if autosomes_only:\n",
    "    jaspar_df = filter_by_chromID(jaspar_df, chrID_to_drop=chromID_to_drop)\n",
    "jaspar_df.reset_index(drop=True, inplace=True)"
   ]
  },
  {
   "cell_type": "code",
   "execution_count": 4,
   "id": "187d9dfa-d588-4ec5-8007-1a7b4c7f5481",
   "metadata": {},
   "outputs": [],
   "source": [
    "# read rmsk file\n",
    "rmsk_df = read_rmsk(rmsk_file)"
   ]
  },
  {
   "cell_type": "markdown",
   "id": "f833b01c-9ed7-4e5c-a0ef-3602dd432be6",
   "metadata": {},
   "source": [
    "## Boundaries"
   ]
  },
  {
   "cell_type": "code",
   "execution_count": 5,
   "id": "610c0f10-4ad5-4528-8f40-e7438feadc6d",
   "metadata": {},
   "outputs": [],
   "source": [
    "boundaries_file = \"/project/fudenber_735/GEO/bonev_2017_GSE96107/distiller-0.3.1_mm10/results/coolers/features/bonev2017.HiC_ES.mm10.mapq_30.1000.window_200000.insulation\"\n",
    "boundaries = pd.read_csv(boundaries_file, sep=\"\\t\")"
   ]
  },
  {
   "cell_type": "code",
   "execution_count": 6,
   "id": "97e22a53-f223-45b6-9b4a-08594f9016e6",
   "metadata": {},
   "outputs": [],
   "source": [
    "window_size = boundaries_file.split(\"window_\")[1].split(\".\")[0]\n",
    "boundary_key, insulation_key = (\n",
    "    f\"boundary_strength_{window_size}\",\n",
    "    f\"log2_insulation_score_{window_size}\",\n",
    ")"
   ]
  },
  {
   "cell_type": "code",
   "execution_count": 7,
   "id": "e6a99dc6-218d-4712-978c-50c3a5cafb82",
   "metadata": {},
   "outputs": [],
   "source": [
    "boundary_strength_thresh = 0.25\n",
    "boundary_insulation_thresh = 0"
   ]
  },
  {
   "cell_type": "code",
   "execution_count": 8,
   "id": "7d2b5411-47a2-4db8-9524-8f603cb7b192",
   "metadata": {},
   "outputs": [],
   "source": [
    "boundaries = boundaries.iloc[\n",
    "        (boundaries[boundary_key].values > boundary_strength_thresh)\n",
    "        * (\n",
    "            boundaries[insulation_key].values\n",
    "            < boundary_insulation_thresh\n",
    "        )\n",
    "    ]"
   ]
  },
  {
   "cell_type": "code",
   "execution_count": 9,
   "id": "7844543b-ef97-443d-a449-66f37c47adc8",
   "metadata": {},
   "outputs": [],
   "source": [
    "if autosomes_only:\n",
    "    boundaries = filter_by_chromID(boundaries, chrID_to_drop=chromID_to_drop)\n",
    "\n",
    "boundaries = filter_by_chrmlen(\n",
    "    boundaries,\n",
    "    chrom_sizes_file,\n",
    "    seq_length,\n",
    ")\n",
    "\n",
    "boundaries.reset_index(drop=True, inplace=True)"
   ]
  },
  {
   "cell_type": "markdown",
   "id": "2d8d59a6-d8a0-436e-97ca-7e85c1c5d830",
   "metadata": {},
   "source": [
    "## CTCFs overlapping boundaries"
   ]
  },
  {
   "cell_type": "code",
   "execution_count": 10,
   "id": "525e0ab7-3cc0-479d-8e88-10a569a63b30",
   "metadata": {},
   "outputs": [],
   "source": [
    "# overlapping CTCF df with boundaries df\n",
    "df_overlap = bf.overlap(\n",
    "    boundaries, jaspar_df, suffixes=(\"\", \"_2\"), return_index=False\n",
    ")\n",
    "\n",
    "# removing rows with no start and end info\n",
    "df_overlap = df_overlap[pd.notnull(df_overlap[\"start_2\"])]\n",
    "df_overlap = df_overlap[pd.notnull(df_overlap[\"end_2\"])]\n",
    "\n",
    "df_overlap[\"span\"] = (\n",
    "    df_overlap[\"start\"].astype(str) + \"-\" + df_overlap[\"end\"].astype(str)\n",
    ")\n",
    "\n",
    "df_keys = [\n",
    "    \"chrom\",\n",
    "    \"start_2\",\n",
    "    \"end_2\",\n",
    "    \"span\",\n",
    "    \"score_2\",\n",
    "    \"strand_2\",\n",
    "    insulation_key,\n",
    "    boundary_key,\n",
    "]\n",
    "\n",
    "df_overlap = df_overlap[df_keys]"
   ]
  },
  {
   "cell_type": "code",
   "execution_count": 11,
   "id": "5970c3b0-72d6-47c9-9986-1025148466dc",
   "metadata": {},
   "outputs": [],
   "source": [
    "# renaming\n",
    "df_overlap = df_overlap.rename(\n",
    "    columns={\n",
    "        \"span\": \"boundary_span\",\n",
    "        \"score_2\": \"jaspar_score\",\n",
    "        \"start_2\": \"start\",\n",
    "        \"end_2\": \"end\",\n",
    "        \"strand_2\": \"strand\",\n",
    "    }\n",
    ")\n",
    "\n",
    "# filtering by CTCF\n",
    "B_filtered_df = filter_by_overlap_num(\n",
    "    df_overlap,\n",
    "    filter_df=jaspar_df,\n",
    "    expand_window=ctcf_filter_expand_window,\n",
    "    max_overlap_num=1,\n",
    ")\n",
    "\n",
    "# filtering by rmsk\n",
    "B_filtered_df = filter_by_overlap_num(\n",
    "    B_filtered_df,\n",
    "    rmsk_df,\n",
    "    expand_window=rmsk_filter_expand_window,\n",
    "    working_df_cols=[\"chrom\", \"start\", \"end\"],\n",
    ")"
   ]
  },
  {
   "cell_type": "code",
   "execution_count": 12,
   "id": "32b8b684-ba8a-431c-8d37-a08d9db2c510",
   "metadata": {},
   "outputs": [
    {
     "data": {
      "text/plain": [
       "7560"
      ]
     },
     "execution_count": 12,
     "metadata": {},
     "output_type": "execute_result"
    }
   ],
   "source": [
    "len(B_filtered_df)"
   ]
  },
  {
   "cell_type": "code",
   "execution_count": 13,
   "id": "e37a9fc7-4463-4253-a9a8-338a775b71e2",
   "metadata": {},
   "outputs": [
    {
     "data": {
      "text/html": [
       "<div>\n",
       "<style scoped>\n",
       "    .dataframe tbody tr th:only-of-type {\n",
       "        vertical-align: middle;\n",
       "    }\n",
       "\n",
       "    .dataframe tbody tr th {\n",
       "        vertical-align: top;\n",
       "    }\n",
       "\n",
       "    .dataframe thead th {\n",
       "        text-align: right;\n",
       "    }\n",
       "</style>\n",
       "<table border=\"1\" class=\"dataframe\">\n",
       "  <thead>\n",
       "    <tr style=\"text-align: right;\">\n",
       "      <th></th>\n",
       "      <th>chrom</th>\n",
       "      <th>start</th>\n",
       "      <th>end</th>\n",
       "      <th>boundary_span</th>\n",
       "      <th>jaspar_score</th>\n",
       "      <th>strand</th>\n",
       "      <th>log2_insulation_score_200000</th>\n",
       "      <th>boundary_strength_200000</th>\n",
       "    </tr>\n",
       "  </thead>\n",
       "  <tbody>\n",
       "    <tr>\n",
       "      <th>0</th>\n",
       "      <td>chr1</td>\n",
       "      <td>4403267</td>\n",
       "      <td>4403286</td>\n",
       "      <td>4400000-4410000</td>\n",
       "      <td>803.0</td>\n",
       "      <td>-</td>\n",
       "      <td>-0.425816</td>\n",
       "      <td>1.013374</td>\n",
       "    </tr>\n",
       "    <tr>\n",
       "      <th>1</th>\n",
       "      <td>chr1</td>\n",
       "      <td>4770055</td>\n",
       "      <td>4770074</td>\n",
       "      <td>4770000-4780000</td>\n",
       "      <td>974.0</td>\n",
       "      <td>+</td>\n",
       "      <td>-0.489156</td>\n",
       "      <td>1.002922</td>\n",
       "    </tr>\n",
       "    <tr>\n",
       "      <th>2</th>\n",
       "      <td>chr1</td>\n",
       "      <td>4770180</td>\n",
       "      <td>4770199</td>\n",
       "      <td>4770000-4780000</td>\n",
       "      <td>833.0</td>\n",
       "      <td>-</td>\n",
       "      <td>-0.489156</td>\n",
       "      <td>1.002922</td>\n",
       "    </tr>\n",
       "    <tr>\n",
       "      <th>3</th>\n",
       "      <td>chr1</td>\n",
       "      <td>4770867</td>\n",
       "      <td>4770886</td>\n",
       "      <td>4770000-4780000</td>\n",
       "      <td>816.0</td>\n",
       "      <td>+</td>\n",
       "      <td>-0.489156</td>\n",
       "      <td>1.002922</td>\n",
       "    </tr>\n",
       "    <tr>\n",
       "      <th>4</th>\n",
       "      <td>chr1</td>\n",
       "      <td>4773435</td>\n",
       "      <td>4773454</td>\n",
       "      <td>4770000-4780000</td>\n",
       "      <td>815.0</td>\n",
       "      <td>+</td>\n",
       "      <td>-0.489156</td>\n",
       "      <td>1.002922</td>\n",
       "    </tr>\n",
       "    <tr>\n",
       "      <th>...</th>\n",
       "      <td>...</td>\n",
       "      <td>...</td>\n",
       "      <td>...</td>\n",
       "      <td>...</td>\n",
       "      <td>...</td>\n",
       "      <td>...</td>\n",
       "      <td>...</td>\n",
       "      <td>...</td>\n",
       "    </tr>\n",
       "    <tr>\n",
       "      <th>7555</th>\n",
       "      <td>chr19</td>\n",
       "      <td>59388426</td>\n",
       "      <td>59388445</td>\n",
       "      <td>59380000-59390000</td>\n",
       "      <td>804.0</td>\n",
       "      <td>+</td>\n",
       "      <td>-0.746354</td>\n",
       "      <td>1.189257</td>\n",
       "    </tr>\n",
       "    <tr>\n",
       "      <th>7556</th>\n",
       "      <td>chr19</td>\n",
       "      <td>59388676</td>\n",
       "      <td>59388695</td>\n",
       "      <td>59380000-59390000</td>\n",
       "      <td>851.0</td>\n",
       "      <td>-</td>\n",
       "      <td>-0.746354</td>\n",
       "      <td>1.189257</td>\n",
       "    </tr>\n",
       "    <tr>\n",
       "      <th>7557</th>\n",
       "      <td>chr19</td>\n",
       "      <td>59389390</td>\n",
       "      <td>59389409</td>\n",
       "      <td>59380000-59390000</td>\n",
       "      <td>961.0</td>\n",
       "      <td>+</td>\n",
       "      <td>-0.746354</td>\n",
       "      <td>1.189257</td>\n",
       "    </tr>\n",
       "    <tr>\n",
       "      <th>7558</th>\n",
       "      <td>chr19</td>\n",
       "      <td>59770157</td>\n",
       "      <td>59770176</td>\n",
       "      <td>59770000-59780000</td>\n",
       "      <td>809.0</td>\n",
       "      <td>-</td>\n",
       "      <td>-0.061002</td>\n",
       "      <td>0.369792</td>\n",
       "    </tr>\n",
       "    <tr>\n",
       "      <th>7559</th>\n",
       "      <td>chr19</td>\n",
       "      <td>59770474</td>\n",
       "      <td>59770493</td>\n",
       "      <td>59770000-59780000</td>\n",
       "      <td>802.0</td>\n",
       "      <td>+</td>\n",
       "      <td>-0.061002</td>\n",
       "      <td>0.369792</td>\n",
       "    </tr>\n",
       "  </tbody>\n",
       "</table>\n",
       "<p>7560 rows × 8 columns</p>\n",
       "</div>"
      ],
      "text/plain": [
       "      chrom     start       end      boundary_span  jaspar_score strand  \\\n",
       "0      chr1   4403267   4403286    4400000-4410000         803.0      -   \n",
       "1      chr1   4770055   4770074    4770000-4780000         974.0      +   \n",
       "2      chr1   4770180   4770199    4770000-4780000         833.0      -   \n",
       "3      chr1   4770867   4770886    4770000-4780000         816.0      +   \n",
       "4      chr1   4773435   4773454    4770000-4780000         815.0      +   \n",
       "...     ...       ...       ...                ...           ...    ...   \n",
       "7555  chr19  59388426  59388445  59380000-59390000         804.0      +   \n",
       "7556  chr19  59388676  59388695  59380000-59390000         851.0      -   \n",
       "7557  chr19  59389390  59389409  59380000-59390000         961.0      +   \n",
       "7558  chr19  59770157  59770176  59770000-59780000         809.0      -   \n",
       "7559  chr19  59770474  59770493  59770000-59780000         802.0      +   \n",
       "\n",
       "      log2_insulation_score_200000  boundary_strength_200000  \n",
       "0                        -0.425816                  1.013374  \n",
       "1                        -0.489156                  1.002922  \n",
       "2                        -0.489156                  1.002922  \n",
       "3                        -0.489156                  1.002922  \n",
       "4                        -0.489156                  1.002922  \n",
       "...                            ...                       ...  \n",
       "7555                     -0.746354                  1.189257  \n",
       "7556                     -0.746354                  1.189257  \n",
       "7557                     -0.746354                  1.189257  \n",
       "7558                     -0.061002                  0.369792  \n",
       "7559                     -0.061002                  0.369792  \n",
       "\n",
       "[7560 rows x 8 columns]"
      ]
     },
     "execution_count": 13,
     "metadata": {},
     "output_type": "execute_result"
    }
   ],
   "source": [
    "B_filtered_df"
   ]
  },
  {
   "cell_type": "code",
   "execution_count": 16,
   "id": "bf15acd2-4a99-4ae9-a4f8-ec53bfcf57b1",
   "metadata": {},
   "outputs": [],
   "source": [
    "boundary_ctcf_counts = B_filtered_df.groupby('boundary_span').size()"
   ]
  },
  {
   "cell_type": "code",
   "execution_count": 17,
   "id": "3d3b125b-f487-44ae-9ee7-7543dbefc90a",
   "metadata": {},
   "outputs": [
    {
     "name": "stdout",
     "output_type": "stream",
     "text": [
      "Minimum CTCF sites per boundary: 1\n",
      "Maximum CTCF sites per boundary: 15\n",
      "Average CTCF sites per boundary: 2.7019299499642604\n",
      "Median CTCF sites per boundary: 2.0\n"
     ]
    }
   ],
   "source": [
    "min_ctcf_sites = boundary_ctcf_counts.min()\n",
    "max_ctcf_sites = boundary_ctcf_counts.max()\n",
    "avg_ctcf_sites = boundary_ctcf_counts.mean()\n",
    "median_ctcf_sites = boundary_ctcf_counts.median()\n",
    "\n",
    "print(f\"Minimum CTCF sites per boundary: {min_ctcf_sites}\")\n",
    "print(f\"Maximum CTCF sites per boundary: {max_ctcf_sites}\")\n",
    "print(f\"Average CTCF sites per boundary: {avg_ctcf_sites}\")\n",
    "print(f\"Median CTCF sites per boundary: {median_ctcf_sites}\")"
   ]
  },
  {
   "cell_type": "code",
   "execution_count": 20,
   "id": "71feacfe-4495-475a-ad7f-553dee58360d",
   "metadata": {},
   "outputs": [
    {
     "data": {
      "image/png": "[encoded data removed]",
      "text/plain": [
       "<Figure size 1000x600 with 1 Axes>"
      ]
     },
     "metadata": {},
     "output_type": "display_data"
    }
   ],
   "source": [
    "# Plot the distribution\n",
    "plt.figure(figsize=(10, 6))\n",
    "sns.histplot(boundary_ctcf_counts, bins=30, kde=True)\n",
    "plt.title('Distribution of CTCF Sites per Boundary')\n",
    "plt.xlabel('Number of CTCF Sites per Boundary')\n",
    "plt.ylabel('Frequency')\n",
    "plt.axvline(avg_ctcf_sites, color='r', linestyle='--', label=f'Average: {avg_ctcf_sites:.2f}')\n",
    "plt.axvline(median_ctcf_sites, color='g', linestyle='--', label=f'Median: {median_ctcf_sites}')\n",
    "plt.legend()\n",
    "plt.show()"
   ]
  },
  {
   "cell_type": "code",
   "execution_count": 21,
   "id": "8ca4e814-1136-4bb8-9dde-bd76ff28a055",
   "metadata": {},
   "outputs": [],
   "source": [
    "# Calculate the percentages\n",
    "total_boundaries = len(boundary_ctcf_counts)\n",
    "more_than_6 = (boundary_ctcf_counts > 6).sum()\n",
    "more_than_10 = (boundary_ctcf_counts > 10).sum()\n",
    "\n",
    "percent_more_than_6 = (more_than_6 / total_boundaries) * 100\n",
    "percent_more_than_10 = (more_than_10 / total_boundaries) * 100"
   ]
  },
  {
   "cell_type": "code",
   "execution_count": 22,
   "id": "5eb2434f-c82d-4dee-93a1-055ef3e19d38",
   "metadata": {},
   "outputs": [
    {
     "name": "stdout",
     "output_type": "stream",
     "text": [
      "Percentage of boundaries with more than 6 CTCF sites: 5.11%\n",
      "Percentage of boundaries with more than 10 CTCF sites: 0.36%\n"
     ]
    }
   ],
   "source": [
    "print(f\"Percentage of boundaries with more than 6 CTCF sites: {percent_more_than_6:.2f}%\")\n",
    "print(f\"Percentage of boundaries with more than 10 CTCF sites: {percent_more_than_10:.2f}%\")"
   ]
  },
  {
   "cell_type": "code",
   "execution_count": null,
   "id": "0a5daca4-f0b6-4095-8d90-d414d9aa86dd",
   "metadata": {},
   "outputs": [],
   "source": []
  }
 ],
 "metadata": {
  "kernelspec": {
   "display_name": "basenji_py3.9_tf2.15",
   "language": "python",
   "name": "basenji_py3.9_tf2.15"
  },
  "language_info": {
   "codemirror_mode": {
    "name": "ipython",
    "version": 3
   },
   "file_extension": ".py",
   "mimetype": "text/x-python",
   "name": "python",
   "nbconvert_exporter": "python",
   "pygments_lexer": "ipython3",
   "version": "3.9.18"
  }
 },
 "nbformat": 4,
 "nbformat_minor": 5
}
