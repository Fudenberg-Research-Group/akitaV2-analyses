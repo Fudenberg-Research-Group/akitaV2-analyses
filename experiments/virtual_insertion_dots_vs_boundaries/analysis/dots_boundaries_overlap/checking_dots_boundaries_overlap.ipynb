{
 "cells": [
  {
   "cell_type": "code",
   "execution_count": 1,
   "id": "14ccdaa0-4507-480e-88cf-6586925ca703",
   "metadata": {},
   "outputs": [],
   "source": [
    "import bioframe as bf\n",
    "import pandas as pd\n",
    "\n",
    "from akita_utils.tsv_utils import (\n",
    "    filter_by_chrmlen,\n",
    "    filter_by_overlap_num,\n",
    "    filter_by_chromID,\n",
    ")\n",
    "from akita_utils.format_io import read_jaspar_to_numpy, read_rmsk"
   ]
  },
  {
   "cell_type": "markdown",
   "id": "5353e1c6-ef6a-4c99-b5bf-1e1b858a03a5",
   "metadata": {},
   "source": [
    "### Specifying parameters and reading data"
   ]
  },
  {
   "cell_type": "code",
   "execution_count": 2,
   "id": "384e2269-8203-4375-b219-9d7e91547193",
   "metadata": {},
   "outputs": [],
   "source": [
    "# parameters and paths\n",
    "jaspar_file = \"/project/fudenber_735/motifs/mm10/jaspar/MA0139.1.tsv.gz\"\n",
    "ctcf_filter_expand_window = 60\n",
    "rmsk_file = \"/project/fudenber_735/genomes/mm10/database/rmsk.txt.gz\"\n",
    "rmsk_filter_expand_window = 20\n",
    "chrom_sizes_file = \"/project/fudenber_735/genomes/mm10/mm10.chrom.sizes.reduced\"\n",
    "dot_file = \"/project/fudenber_735/GEO/bonev_2017_GSE96107/distiller-0.3.1_mm10/results/coolers/features/mustache_HiC_ES.mm10.mapq_30.10000.tsv\"\n",
    "autosomes_only = True\n",
    "seq_length = 1310720\n",
    "\n",
    "if autosomes_only:\n",
    "    chromID_to_drop = [\"chrX\", \"chrY\", \"chrM\"]\n",
    "\n",
    "# read jaspar table (all CTCFs in the mouse genome)\n",
    "jaspar_df = bf.read_table(jaspar_file, schema=\"jaspar\", skiprows=1)\n",
    "if autosomes_only:\n",
    "    jaspar_df = filter_by_chromID(jaspar_df, chrID_to_drop=chromID_to_drop)\n",
    "jaspar_df.reset_index(drop=True, inplace=True)\n",
    "\n",
    "# read rmsk file\n",
    "rmsk_df = read_rmsk(rmsk_file)\n",
    "\n",
    "# load dots (detected from HiC)\n",
    "dots = pd.read_csv(dot_file, sep=\"\\t\")\n",
    "\n",
    "# combining dot anchors' coordinates into one table\n",
    "dots_bin1 = dots[[\"BIN1_CHR\", \"BIN1_START\", \"BIN1_END\", \"FDR\", \"DETECTION_SCALE\"]]\n",
    "dots_bin2 = dots[[\"BIN2_CHROMOSOME\", \"BIN2_START\", \"BIN2_END\", \"FDR\", \"DETECTION_SCALE\"]]\n",
    "\n",
    "dots_bin1 = dots_bin1.rename(columns={\"BIN1_CHR\": \"chrom\", \"BIN1_START\": \"start\", \"BIN1_END\": \"end\"})\n",
    "dots_bin2 = dots_bin2.rename(columns={\"BIN2_CHROMOSOME\": \"chrom\", \"BIN2_START\": \"start\", \"BIN2_END\": \"end\"})\n",
    "\n",
    "dots = pd.concat([dots_bin1, dots_bin2])\n",
    "\n",
    "if autosomes_only:\n",
    "    dots = filter_by_chromID(dots, chrID_to_drop=chromID_to_drop)\n",
    "\n",
    "dots = filter_by_chrmlen(\n",
    "    dots,\n",
    "    chrom_sizes_file,\n",
    "    seq_length,\n",
    ")\n",
    "\n",
    "dots.reset_index(drop=True, inplace=True)"
   ]
  },
  {
   "cell_type": "code",
   "execution_count": 3,
   "id": "4337dbcb-a095-428a-bc7a-322789019cbf",
   "metadata": {},
   "outputs": [
    {
     "name": "stdout",
     "output_type": "stream",
     "text": [
      "numer of dot anchors:  18543\n"
     ]
    }
   ],
   "source": [
    "print(\"numer of dot anchors: \", len(dots))"
   ]
  },
  {
   "cell_type": "markdown",
   "id": "5e5e4fd6-dc47-46e7-95bf-6c6cbd73acc9",
   "metadata": {},
   "source": [
    "### Number of Dot Anchors = 18543"
   ]
  },
  {
   "cell_type": "markdown",
   "id": "efdd900c-2565-4795-8580-a46bb7f7082a",
   "metadata": {},
   "source": [
    "------------"
   ]
  },
  {
   "cell_type": "markdown",
   "id": "bdb55224-cc98-4b25-93d6-399f00dc9191",
   "metadata": {},
   "source": [
    "### Reading boundaries data"
   ]
  },
  {
   "cell_type": "code",
   "execution_count": 4,
   "id": "ff10fc69-03d2-48ad-88fd-87a329a5cf8d",
   "metadata": {},
   "outputs": [],
   "source": [
    "# parameters and paths\n",
    "boundaries_file = \"/project/fudenber_735/GEO/bonev_2017_GSE96107/distiller-0.3.1_mm10/results/coolers/features/bonev2017.HiC_ES.mm10.mapq_30.1000.window_200000.insulation\"\n",
    "boundaries = pd.read_csv(boundaries_file, sep=\"\\t\")\n",
    "boundary_strength_thresh = 0.25\n",
    "boundary_insulation_thresh = 0\n",
    "\n",
    "window_size = boundaries_file.split(\"window_\")[1].split(\".\")[0]\n",
    "boundary_key, insulation_key = (\n",
    "    f\"boundary_strength_{window_size}\",\n",
    "    f\"log2_insulation_score_{window_size}\",\n",
    ")\n",
    "\n",
    "# filtering string boundaries\n",
    "boundaries = boundaries.iloc[\n",
    "        (boundaries[boundary_key].values > boundary_strength_thresh)\n",
    "        * (\n",
    "            boundaries[insulation_key].values\n",
    "            < boundary_insulation_thresh\n",
    "        )\n",
    "    ]\n",
    "\n",
    "if autosomes_only:\n",
    "    boundaries = filter_by_chromID(boundaries, chrID_to_drop=chromID_to_drop)\n",
    "\n",
    "boundaries = filter_by_chrmlen(\n",
    "    boundaries,\n",
    "    chrom_sizes_file,\n",
    "    seq_length,\n",
    ")\n",
    "\n",
    "boundaries.reset_index(drop=True, inplace=True)"
   ]
  },
  {
   "cell_type": "code",
   "execution_count": 5,
   "id": "d1cfb9d3-2f29-409e-b668-dc151d9fe42f",
   "metadata": {},
   "outputs": [
    {
     "name": "stdout",
     "output_type": "stream",
     "text": [
      "numer of boundaries:  4474\n"
     ]
    }
   ],
   "source": [
    "print(\"numer of boundaries: \", len(boundaries))"
   ]
  },
  {
   "cell_type": "markdown",
   "id": "629ad895-b4c0-47a8-aa4f-cd7cf6faf104",
   "metadata": {},
   "source": [
    "### Number of Boundaries = 4474"
   ]
  },
  {
   "cell_type": "markdown",
   "id": "dff8de0c-41af-411e-9ffe-5c89698db2c0",
   "metadata": {},
   "source": [
    "--------"
   ]
  },
  {
   "cell_type": "markdown",
   "id": "f91fb046-7365-44da-889e-8d437e6ce67b",
   "metadata": {},
   "source": [
    "### Overlapping CTCF df with boundaries df"
   ]
  },
  {
   "cell_type": "code",
   "execution_count": 6,
   "id": "9b2a810a-7fff-4df5-a589-64244d2d9d4d",
   "metadata": {},
   "outputs": [],
   "source": [
    "df_overlap = bf.overlap(\n",
    "    boundaries, jaspar_df, suffixes=(\"\", \"_2\"), return_index=False\n",
    ")\n",
    "\n",
    "# removing rows with no start and end info\n",
    "df_overlap = df_overlap[pd.notnull(df_overlap[\"start_2\"])]\n",
    "df_overlap = df_overlap[pd.notnull(df_overlap[\"end_2\"])]\n",
    "\n",
    "df_overlap[\"span\"] = (\n",
    "    df_overlap[\"start\"].astype(str) + \"-\" + df_overlap[\"end\"].astype(str)\n",
    ")\n",
    "\n",
    "df_keys = [\n",
    "    \"chrom\",\n",
    "    \"start_2\",\n",
    "    \"end_2\",\n",
    "    \"span\",\n",
    "    \"score_2\",\n",
    "    \"strand_2\",\n",
    "    insulation_key,\n",
    "    boundary_key,\n",
    "]\n",
    "\n",
    "df_overlap = df_overlap[df_keys]\n",
    "\n",
    "# renaming\n",
    "df_overlap = df_overlap.rename(\n",
    "    columns={\n",
    "        \"span\": \"boundary_span\",\n",
    "        \"score_2\": \"jaspar_score\",\n",
    "        \"start_2\": \"start\",\n",
    "        \"end_2\": \"end\",\n",
    "        \"strand_2\": \"strand\",\n",
    "    }\n",
    ")\n",
    "\n",
    "# filtering by CTCF\n",
    "B_filtered_df = filter_by_overlap_num(\n",
    "    df_overlap,\n",
    "    filter_df=jaspar_df,\n",
    "    expand_window=ctcf_filter_expand_window,\n",
    "    max_overlap_num=1,\n",
    ")\n",
    "\n",
    "# filtering by rmsk\n",
    "B_filtered_df = filter_by_overlap_num(\n",
    "    B_filtered_df,\n",
    "    rmsk_df,\n",
    "    expand_window=rmsk_filter_expand_window,\n",
    "    working_df_cols=[\"chrom\", \"start\", \"end\"],\n",
    ")"
   ]
  },
  {
   "cell_type": "code",
   "execution_count": 7,
   "id": "fced2730-af34-4b0f-b1da-c1acc4d1815d",
   "metadata": {},
   "outputs": [
    {
     "name": "stdout",
     "output_type": "stream",
     "text": [
      "numer of CTCF overlapping boundaries:  7560\n"
     ]
    }
   ],
   "source": [
    "print(\"numer of CTCF overlapping boundaries: \", len(B_filtered_df))"
   ]
  },
  {
   "cell_type": "markdown",
   "id": "9f80dbd6-877f-464b-8dcd-790f543516bd",
   "metadata": {},
   "source": [
    "### Number of CTCFs overlapping boundaries = 7560"
   ]
  },
  {
   "cell_type": "markdown",
   "id": "6456f17f-f7c9-4773-aca1-00fea1ab3da0",
   "metadata": {},
   "source": [
    "---------"
   ]
  },
  {
   "cell_type": "markdown",
   "id": "fa686768-1986-4859-b95f-e288da4bbc53",
   "metadata": {},
   "source": [
    "# Overlapping CTCF df with dot anchors df"
   ]
  },
  {
   "cell_type": "code",
   "execution_count": 8,
   "id": "77d59739-6bba-448b-8ecc-78663bbc43c0",
   "metadata": {},
   "outputs": [],
   "source": [
    "df_overlap = bf.overlap(\n",
    "    dots, jaspar_df, suffixes=(\"\", \"_2\"), return_index=False\n",
    ")\n",
    "\n",
    "# removing rows with no start and end info\n",
    "df_overlap = df_overlap[pd.notnull(df_overlap[\"start_2\"])]\n",
    "df_overlap = df_overlap[pd.notnull(df_overlap[\"end_2\"])]\n",
    "\n",
    "df_overlap[\"span\"] = (\n",
    "        df_overlap[\"start\"].astype(str) + \"-\" + df_overlap[\"end\"].astype(str)\n",
    "    )\n",
    "\n",
    "df_keys = [\n",
    "        \"chrom\",\n",
    "        \"start_2\",\n",
    "        \"end_2\",\n",
    "        \"span\",\n",
    "        \"score_2\",\n",
    "        \"strand_2\",\n",
    "        \"FDR\",\n",
    "        \"DETECTION_SCALE\",\n",
    "    ]\n",
    "\n",
    "df_overlap = df_overlap[df_keys]\n",
    "\n",
    "# renaming\n",
    "df_overlap = df_overlap.rename(\n",
    "    columns={\n",
    "        \"span\": \"boundary_span\",\n",
    "        \"score_2\": \"jaspar_score\",\n",
    "        \"start_2\": \"start\",\n",
    "        \"end_2\": \"end\",\n",
    "        \"strand_2\": \"strand\",\n",
    "    }\n",
    ")\n",
    "\n",
    "# filtering by CTCF\n",
    "filtered_df = filter_by_overlap_num(\n",
    "    df_overlap,\n",
    "    filter_df=jaspar_df,\n",
    "    expand_window=ctcf_filter_expand_window,\n",
    "    max_overlap_num=1,\n",
    ")\n",
    "\n",
    "# filtering by rmsk\n",
    "filtered_df = filter_by_overlap_num(\n",
    "    filtered_df,\n",
    "    rmsk_df,\n",
    "    expand_window=rmsk_filter_expand_window,\n",
    "    working_df_cols=[\"chrom\", \"start\", \"end\"],\n",
    ")"
   ]
  },
  {
   "cell_type": "code",
   "execution_count": 9,
   "id": "5df3f2d9-ade8-4b6d-a21a-1fd8d260fda6",
   "metadata": {},
   "outputs": [
    {
     "name": "stdout",
     "output_type": "stream",
     "text": [
      "numer of CTCF overlapping dot anchors:  39226\n"
     ]
    }
   ],
   "source": [
    "print(\"numer of CTCF overlapping dot anchors: \", len(filtered_df))"
   ]
  },
  {
   "cell_type": "markdown",
   "id": "a76d969f-3dfc-4705-b222-ca1fde5fc2c8",
   "metadata": {},
   "source": [
    "### Number CTCFs overlapping dot anchors = 39,226"
   ]
  },
  {
   "cell_type": "markdown",
   "id": "51b5c0ae-a158-43da-a353-ddbd16eb2b8e",
   "metadata": {},
   "source": [
    "------------"
   ]
  },
  {
   "cell_type": "markdown",
   "id": "76c699f4-45b3-400e-958a-9575caa9b80e",
   "metadata": {},
   "source": [
    "### Checking dots and boundaries CTCFs' overlap"
   ]
  },
  {
   "cell_type": "code",
   "execution_count": 10,
   "id": "776093a5-d444-4468-b88e-eadfffbb3a0b",
   "metadata": {},
   "outputs": [],
   "source": [
    "# Merging the DataFrames with an indicator\n",
    "merged_df = pd.merge(filtered_df, B_filtered_df, on=['chrom', 'start', 'end'], how='left', indicator=True)\n",
    "num_overlap = len(pd.merge(filtered_df, B_filtered_df, on=['chrom', 'start', 'end'], how='inner'))"
   ]
  },
  {
   "cell_type": "code",
   "execution_count": 12,
   "id": "8d9459fe-30d1-4d5a-a724-0ad879a5ee16",
   "metadata": {},
   "outputs": [
    {
     "name": "stdout",
     "output_type": "stream",
     "text": [
      "numer of CTCF overlapping both boundaries and dot anchors:  2278\n"
     ]
    }
   ],
   "source": [
    "print(\"numer of CTCF overlapping both boundaries and dot anchors: \", num_overlap)"
   ]
  },
  {
   "cell_type": "markdown",
   "id": "a3beb56f-d2eb-475e-ba3d-ae5ef347048c",
   "metadata": {},
   "source": [
    "### Number of CTCF sites overlapping bondaries and dot anchors = 2,278"
   ]
  },
  {
   "cell_type": "code",
   "execution_count": 13,
   "id": "3bf26241-4472-40a3-8c76-d2b22fc5f4df",
   "metadata": {},
   "outputs": [],
   "source": [
    "unique_to_dot_anchors = merged_df[merged_df[\"_merge\"] == \"left_only\"]\n",
    "unique_to_dot_anchors = unique_to_dot_anchors.drop(columns=['boundary_span_y',\n",
    "       'jaspar_score_y', 'strand_y', 'log2_insulation_score_200000',\n",
    "       'boundary_strength_200000', '_merge'])\n",
    "unique_to_dot_anchors = unique_to_dot_anchors.rename(columns={\"boundary_span_x\": \"boundary_span\", \n",
    "                                      \"jaspar_score_x\": \"jaspar_score\",\n",
    "                                     \"strand_x\": \"strand\"})"
   ]
  },
  {
   "cell_type": "code",
   "execution_count": 14,
   "id": "bfab0345-94f8-4677-bd6d-b4afa1e27d6f",
   "metadata": {},
   "outputs": [
    {
     "name": "stdout",
     "output_type": "stream",
     "text": [
      "numer of CTCFs uniquely overlapping dot anchors:  36948\n"
     ]
    }
   ],
   "source": [
    "print(\"numer of CTCFs uniquely overlapping dot anchors: \", len(unique_to_dot_anchors))"
   ]
  },
  {
   "cell_type": "markdown",
   "id": "5135ff6f-98fd-4152-96f9-81f1ce67af7c",
   "metadata": {},
   "source": [
    "### Number of CTCF sites uniquely overlapping dot anchors = 36,948 "
   ]
  },
  {
   "cell_type": "code",
   "execution_count": 17,
   "id": "79e96cc9-caa3-4b2f-9b5d-8c98f5df9e5d",
   "metadata": {},
   "outputs": [
    {
     "name": "stdout",
     "output_type": "stream",
     "text": [
      "1/ 17  of dot-associated CTCF sites overlap boundaries\n"
     ]
    }
   ],
   "source": [
    "print(\"1/\", (39226 // num_overlap), \" of dot-associated CTCF sites overlap boundaries\")"
   ]
  },
  {
   "cell_type": "code",
   "execution_count": 18,
   "id": "a716a2bb-2b86-4cb4-9a8a-9d2de56687a2",
   "metadata": {},
   "outputs": [
    {
     "name": "stdout",
     "output_type": "stream",
     "text": [
      "1/ 3  of boundary-associated CTCF sites overlap dots\n"
     ]
    }
   ],
   "source": [
    "print(\"1/\", (7560 // num_overlap), \" of boundary-associated CTCF sites overlap dots\")"
   ]
  }
 ],
 "metadata": {
  "kernelspec": {
   "display_name": "basenji_py3.9_tf2.15",
   "language": "python",
   "name": "basenji_py3.9_tf2.15"
  },
  "language_info": {
   "codemirror_mode": {
    "name": "ipython",
    "version": 3
   },
   "file_extension": ".py",
   "mimetype": "text/x-python",
   "name": "python",
   "nbconvert_exporter": "python",
   "pygments_lexer": "ipython3",
   "version": "3.9.18"
  }
 },
 "nbformat": 4,
 "nbformat_minor": 5
}
