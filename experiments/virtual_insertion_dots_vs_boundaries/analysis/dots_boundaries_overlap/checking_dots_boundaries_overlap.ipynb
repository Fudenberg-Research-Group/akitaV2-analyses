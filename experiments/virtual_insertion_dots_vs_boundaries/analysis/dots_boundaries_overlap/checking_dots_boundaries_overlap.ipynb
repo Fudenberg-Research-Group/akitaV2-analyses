{
 "cells": [
  {
   "cell_type": "code",
   "execution_count": 1,
   "id": "14ccdaa0-4507-480e-88cf-6586925ca703",
   "metadata": {},
   "outputs": [],
   "source": [
    "from optparse import OptionParser\n",
    "import json\n",
    "import bioframe as bf\n",
    "import numpy as np\n",
    "import pandas as pd\n",
    "import os\n",
    "from akita_utils.tsv_gen_utils import (\n",
    "    filter_by_chrmlen,\n",
    "    filter_by_overlap_num,\n",
    "    filter_by_chromID,\n",
    ")\n",
    "from akita_utils.format_io import read_jaspar_to_numpy, read_rmsk"
   ]
  },
  {
   "cell_type": "markdown",
   "id": "5353e1c6-ef6a-4c99-b5bf-1e1b858a03a5",
   "metadata": {},
   "source": [
    "## Data and parameters"
   ]
  },
  {
   "cell_type": "code",
   "execution_count": 2,
   "id": "384e2269-8203-4375-b219-9d7e91547193",
   "metadata": {},
   "outputs": [],
   "source": [
    "jaspar_file = \"/project/fudenber_735/motifs/mm10/jaspar/MA0139.1.tsv.gz\"\n",
    "ctcf_filter_expand_window = 60\n",
    "rmsk_file = \"/project/fudenber_735/genomes/mm10/database/rmsk.txt.gz\"\n",
    "rmsk_filter_expand_window = 20\n",
    "chrom_sizes_file = \"/project/fudenber_735/genomes/mm10/mm10.chrom.sizes.reduced\"\n",
    "dot_file = \"/project/fudenber_735/GEO/bonev_2017_GSE96107/distiller-0.3.1_mm10/results/coolers/features/mustache_HiC_ES.mm10.mapq_30.10000.tsv\"\n",
    "autosomes_only = True\n",
    "\n",
    "if autosomes_only:\n",
    "    chromID_to_drop = [\"chrX\", \"chrY\", \"chrM\"]\n",
    "\n",
    "seq_length = 1310720"
   ]
  },
  {
   "cell_type": "code",
   "execution_count": 3,
   "id": "73e71ff0-d2a2-46e8-8db0-c0a27b0dcdb4",
   "metadata": {},
   "outputs": [],
   "source": [
    "jaspar_df = bf.read_table(jaspar_file, schema=\"jaspar\", skiprows=1)\n",
    "if autosomes_only:\n",
    "    jaspar_df = filter_by_chromID(jaspar_df, chrID_to_drop=chromID_to_drop)\n",
    "jaspar_df.reset_index(drop=True, inplace=True)"
   ]
  },
  {
   "cell_type": "code",
   "execution_count": 4,
   "id": "f7b21b6b-e44b-460f-932d-4a210a936ae1",
   "metadata": {},
   "outputs": [],
   "source": [
    "# read rmsk file\n",
    "rmsk_df = read_rmsk(rmsk_file)\n",
    "\n",
    "# load dots\n",
    "dots = pd.read_csv(dot_file, sep=\"\\t\")"
   ]
  },
  {
   "cell_type": "code",
   "execution_count": 5,
   "id": "132b7468-1077-4be9-b825-07ccf5cfe2ee",
   "metadata": {},
   "outputs": [],
   "source": [
    "# combining coordinates into one table\n",
    "dots_bin1 = dots[[\"BIN1_CHR\", \"BIN1_START\", \"BIN1_END\", \"FDR\", \"DETECTION_SCALE\"]]\n",
    "dots_bin2 = dots[[\"BIN2_CHROMOSOME\", \"BIN2_START\", \"BIN2_END\", \"FDR\", \"DETECTION_SCALE\"]]\n",
    "\n",
    "dots_bin1 = dots_bin1.rename(columns={\"BIN1_CHR\": \"chrom\", \"BIN1_START\": \"start\", \"BIN1_END\": \"end\"})\n",
    "dots_bin2 = dots_bin2.rename(columns={\"BIN2_CHROMOSOME\": \"chrom\", \"BIN2_START\": \"start\", \"BIN2_END\": \"end\"})\n",
    "\n",
    "dots = pd.concat([dots_bin1, dots_bin2])"
   ]
  },
  {
   "cell_type": "code",
   "execution_count": 6,
   "id": "947fe2aa-e480-4c10-a845-aeeb2ee908a7",
   "metadata": {},
   "outputs": [],
   "source": [
    "if autosomes_only:\n",
    "    dots = filter_by_chromID(dots, chrID_to_drop=chromID_to_drop)\n",
    "\n",
    "dots = filter_by_chrmlen(\n",
    "    dots,\n",
    "    chrom_sizes_file,\n",
    "    seq_length,\n",
    ")\n",
    "\n",
    "dots.reset_index(drop=True, inplace=True)"
   ]
  },
  {
   "cell_type": "code",
   "execution_count": 7,
   "id": "9dc57bdd-3de6-4c05-bb05-010ba2dbe7f8",
   "metadata": {},
   "outputs": [
    {
     "data": {
      "text/plain": [
       "18543"
      ]
     },
     "execution_count": 7,
     "metadata": {},
     "output_type": "execute_result"
    }
   ],
   "source": [
    "len(dots)"
   ]
  },
  {
   "cell_type": "markdown",
   "id": "5e5e4fd6-dc47-46e7-95bf-6c6cbd73acc9",
   "metadata": {},
   "source": [
    "### Dot Anchors Summary\n",
    "In total: 18543 dot anchors"
   ]
  },
  {
   "cell_type": "code",
   "execution_count": 8,
   "id": "ff10fc69-03d2-48ad-88fd-87a329a5cf8d",
   "metadata": {},
   "outputs": [],
   "source": [
    "boundaries_file = \"/project/fudenber_735/GEO/bonev_2017_GSE96107/distiller-0.3.1_mm10/results/coolers/features/bonev2017.HiC_ES.mm10.mapq_30.1000.window_200000.insulation\"\n",
    "boundaries = pd.read_csv(boundaries_file, sep=\"\\t\")"
   ]
  },
  {
   "cell_type": "code",
   "execution_count": 9,
   "id": "311c00b0-7097-43c7-9dff-41054f0d1c8c",
   "metadata": {},
   "outputs": [],
   "source": [
    "window_size = boundaries_file.split(\"window_\")[1].split(\".\")[0]\n",
    "boundary_key, insulation_key = (\n",
    "    f\"boundary_strength_{window_size}\",\n",
    "    f\"log2_insulation_score_{window_size}\",\n",
    ")"
   ]
  },
  {
   "cell_type": "code",
   "execution_count": 10,
   "id": "b66a583f-2156-44a9-b586-62063bff21aa",
   "metadata": {},
   "outputs": [],
   "source": [
    "boundary_strength_thresh = 0.25\n",
    "boundary_insulation_thresh = 0"
   ]
  },
  {
   "cell_type": "code",
   "execution_count": 11,
   "id": "e221fee0-b871-4374-b045-254f38164382",
   "metadata": {},
   "outputs": [],
   "source": [
    "boundaries = boundaries.iloc[\n",
    "        (boundaries[boundary_key].values > boundary_strength_thresh)\n",
    "        * (\n",
    "            boundaries[insulation_key].values\n",
    "            < boundary_insulation_thresh\n",
    "        )\n",
    "    ]"
   ]
  },
  {
   "cell_type": "code",
   "execution_count": 13,
   "id": "f80e5fac-a7b6-4e26-bbc8-b146d60e603f",
   "metadata": {},
   "outputs": [],
   "source": [
    "if autosomes_only:\n",
    "    boundaries = filter_by_chromID(boundaries, chrID_to_drop=chromID_to_drop)\n",
    "\n",
    "boundaries = filter_by_chrmlen(\n",
    "    boundaries,\n",
    "    chrom_sizes_file,\n",
    "    seq_length,\n",
    ")\n",
    "\n",
    "boundaries.reset_index(drop=True, inplace=True)"
   ]
  },
  {
   "cell_type": "code",
   "execution_count": 14,
   "id": "d1cfb9d3-2f29-409e-b668-dc151d9fe42f",
   "metadata": {},
   "outputs": [
    {
     "data": {
      "text/plain": [
       "4474"
      ]
     },
     "execution_count": 14,
     "metadata": {},
     "output_type": "execute_result"
    }
   ],
   "source": [
    "len(boundaries)"
   ]
  },
  {
   "cell_type": "markdown",
   "id": "629ad895-b4c0-47a8-aa4f-cd7cf6faf104",
   "metadata": {},
   "source": [
    "### Boundaries Summary\n",
    "In total: 4474 boundaries"
   ]
  },
  {
   "cell_type": "code",
   "execution_count": 16,
   "id": "9b2a810a-7fff-4df5-a589-64244d2d9d4d",
   "metadata": {},
   "outputs": [],
   "source": [
    "# overlapping CTCF df with boundaries df\n",
    "df_overlap = bf.overlap(\n",
    "    boundaries, jaspar_df, suffixes=(\"\", \"_2\"), return_index=False\n",
    ")\n",
    "\n",
    "# removing rows with no start and end info\n",
    "df_overlap = df_overlap[pd.notnull(df_overlap[\"start_2\"])]\n",
    "df_overlap = df_overlap[pd.notnull(df_overlap[\"end_2\"])]\n",
    "\n",
    "df_overlap[\"span\"] = (\n",
    "    df_overlap[\"start\"].astype(str) + \"-\" + df_overlap[\"end\"].astype(str)\n",
    ")\n",
    "\n",
    "df_keys = [\n",
    "    \"chrom\",\n",
    "    \"start_2\",\n",
    "    \"end_2\",\n",
    "    \"span\",\n",
    "    \"score_2\",\n",
    "    \"strand_2\",\n",
    "    insulation_key,\n",
    "    boundary_key,\n",
    "]\n",
    "\n",
    "df_overlap = df_overlap[df_keys]"
   ]
  },
  {
   "cell_type": "code",
   "execution_count": 17,
   "id": "53e90c73-9c62-42b2-acbe-7c22699f614d",
   "metadata": {},
   "outputs": [],
   "source": [
    "# renaming\n",
    "df_overlap = df_overlap.rename(\n",
    "    columns={\n",
    "        \"span\": \"boundary_span\",\n",
    "        \"score_2\": \"jaspar_score\",\n",
    "        \"start_2\": \"start\",\n",
    "        \"end_2\": \"end\",\n",
    "        \"strand_2\": \"strand\",\n",
    "    }\n",
    ")\n",
    "\n",
    "# filtering by CTCF\n",
    "B_filtered_df = filter_by_overlap_num(\n",
    "    df_overlap,\n",
    "    filter_df=jaspar_df,\n",
    "    expand_window=ctcf_filter_expand_window,\n",
    "    max_overlap_num=1,\n",
    ")\n",
    "\n",
    "# filtering by rmsk\n",
    "B_filtered_df = filter_by_overlap_num(\n",
    "    B_filtered_df,\n",
    "    rmsk_df,\n",
    "    expand_window=rmsk_filter_expand_window,\n",
    "    working_df_cols=[\"chrom\", \"start\", \"end\"],\n",
    ")"
   ]
  },
  {
   "cell_type": "code",
   "execution_count": 18,
   "id": "37a942a8-ee10-4476-9ba7-d20ffd131ce3",
   "metadata": {},
   "outputs": [
    {
     "data": {
      "text/plain": [
       "7560"
      ]
     },
     "execution_count": 18,
     "metadata": {},
     "output_type": "execute_result"
    }
   ],
   "source": [
    "len(B_filtered_df)"
   ]
  },
  {
   "cell_type": "markdown",
   "id": "9f80dbd6-877f-464b-8dcd-790f543516bd",
   "metadata": {},
   "source": [
    "### CTCFs overlapping boundaries\n",
    "In total: 7560 sites"
   ]
  },
  {
   "cell_type": "code",
   "execution_count": 19,
   "id": "77d59739-6bba-448b-8ecc-78663bbc43c0",
   "metadata": {},
   "outputs": [],
   "source": [
    "# overlapping CTCF df with boundaries df\n",
    "df_overlap = bf.overlap(\n",
    "    dots, jaspar_df, suffixes=(\"\", \"_2\"), return_index=False\n",
    ")\n",
    "\n",
    "# removing rows with no start and end info\n",
    "df_overlap = df_overlap[pd.notnull(df_overlap[\"start_2\"])]\n",
    "df_overlap = df_overlap[pd.notnull(df_overlap[\"end_2\"])]"
   ]
  },
  {
   "cell_type": "code",
   "execution_count": 20,
   "id": "3044e74b-2f07-4f7f-bf80-4f487c49cadc",
   "metadata": {},
   "outputs": [],
   "source": [
    "df_overlap[\"span\"] = (\n",
    "        df_overlap[\"start\"].astype(str) + \"-\" + df_overlap[\"end\"].astype(str)\n",
    "    )"
   ]
  },
  {
   "cell_type": "code",
   "execution_count": 21,
   "id": "6a7ad93c-c324-4e1e-9beb-feca2cb98856",
   "metadata": {},
   "outputs": [],
   "source": [
    "df_keys = [\n",
    "        \"chrom\",\n",
    "        \"start_2\",\n",
    "        \"end_2\",\n",
    "        \"span\",\n",
    "        \"score_2\",\n",
    "        \"strand_2\",\n",
    "        \"FDR\",\n",
    "        \"DETECTION_SCALE\",\n",
    "    ]\n",
    "\n",
    "df_overlap = df_overlap[df_keys]"
   ]
  },
  {
   "cell_type": "code",
   "execution_count": 22,
   "id": "212d4233-2bd5-4f51-b45b-317dd870aef0",
   "metadata": {},
   "outputs": [],
   "source": [
    "# renaming\n",
    "df_overlap = df_overlap.rename(\n",
    "    columns={\n",
    "        \"span\": \"boundary_span\",\n",
    "        \"score_2\": \"jaspar_score\",\n",
    "        \"start_2\": \"start\",\n",
    "        \"end_2\": \"end\",\n",
    "        \"strand_2\": \"strand\",\n",
    "    }\n",
    ")"
   ]
  },
  {
   "cell_type": "code",
   "execution_count": 23,
   "id": "295dd916-ae0b-43f6-9ac0-121d73a866da",
   "metadata": {},
   "outputs": [],
   "source": [
    "# filtering by CTCF\n",
    "filtered_df = filter_by_overlap_num(\n",
    "    df_overlap,\n",
    "    filter_df=jaspar_df,\n",
    "    expand_window=ctcf_filter_expand_window,\n",
    "    max_overlap_num=1,\n",
    ")\n",
    "\n",
    "# filtering by rmsk\n",
    "filtered_df = filter_by_overlap_num(\n",
    "    filtered_df,\n",
    "    rmsk_df,\n",
    "    expand_window=rmsk_filter_expand_window,\n",
    "    working_df_cols=[\"chrom\", \"start\", \"end\"],\n",
    ")"
   ]
  },
  {
   "cell_type": "code",
   "execution_count": 24,
   "id": "5df3f2d9-ade8-4b6d-a21a-1fd8d260fda6",
   "metadata": {},
   "outputs": [
    {
     "data": {
      "text/plain": [
       "39226"
      ]
     },
     "execution_count": 24,
     "metadata": {},
     "output_type": "execute_result"
    }
   ],
   "source": [
    "len(filtered_df)"
   ]
  },
  {
   "cell_type": "markdown",
   "id": "a76d969f-3dfc-4705-b222-ca1fde5fc2c8",
   "metadata": {},
   "source": [
    "### CTCFs overlapping dot anchors\n",
    "In total: 39,226 sites"
   ]
  },
  {
   "cell_type": "code",
   "execution_count": 33,
   "id": "776093a5-d444-4468-b88e-eadfffbb3a0b",
   "metadata": {},
   "outputs": [],
   "source": [
    "# Merging the DataFrames with an indicator\n",
    "merged_df = pd.merge(filtered_df, B_filtered_df, on=['chrom', 'start', 'end'], how='left', indicator=True)"
   ]
  },
  {
   "cell_type": "code",
   "execution_count": 38,
   "id": "cb592a51-eb20-4def-9a16-f4006afaffec",
   "metadata": {},
   "outputs": [],
   "source": [
    "num_overlap = len(pd.merge(filtered_df, B_filtered_df, on=['chrom', 'start', 'end'], how='inner'))"
   ]
  },
  {
   "cell_type": "code",
   "execution_count": 39,
   "id": "c19710c6-540e-4d76-bb79-b487de305e60",
   "metadata": {},
   "outputs": [
    {
     "data": {
      "text/plain": [
       "2278"
      ]
     },
     "execution_count": 39,
     "metadata": {},
     "output_type": "execute_result"
    }
   ],
   "source": [
    "num_overlap"
   ]
  },
  {
   "cell_type": "markdown",
   "id": "a3beb56f-d2eb-475e-ba3d-ae5ef347048c",
   "metadata": {},
   "source": [
    "### 2,278 CTCF sites overlap bondaries and dot anchors"
   ]
  },
  {
   "cell_type": "code",
   "execution_count": 40,
   "id": "3bf26241-4472-40a3-8c76-d2b22fc5f4df",
   "metadata": {},
   "outputs": [],
   "source": [
    "unique_to_dot_anchors = merged_df[merged_df[\"_merge\"] == \"left_only\"]"
   ]
  },
  {
   "cell_type": "code",
   "execution_count": 41,
   "id": "00aaef09-2056-4509-967b-cf11c4528fea",
   "metadata": {},
   "outputs": [],
   "source": [
    "unique_to_dot_anchors = unique_to_dot_anchors.drop(columns=['boundary_span_y',\n",
    "       'jaspar_score_y', 'strand_y', 'log2_insulation_score_200000',\n",
    "       'boundary_strength_200000', '_merge'])"
   ]
  },
  {
   "cell_type": "code",
   "execution_count": 42,
   "id": "a3c51c4a-b37d-417b-8b37-e96f8aaa9b3c",
   "metadata": {},
   "outputs": [],
   "source": [
    "unique_to_dot_anchors = unique_to_dot_anchors.rename(columns={\"boundary_span_x\": \"boundary_span\", \n",
    "                                      \"jaspar_score_x\": \"jaspar_score\",\n",
    "                                     \"strand_x\": \"strand\"})"
   ]
  },
  {
   "cell_type": "code",
   "execution_count": 43,
   "id": "532b5305-bf99-40ec-8687-1328dc2472e6",
   "metadata": {},
   "outputs": [
    {
     "data": {
      "text/plain": [
       "36948"
      ]
     },
     "execution_count": 43,
     "metadata": {},
     "output_type": "execute_result"
    }
   ],
   "source": [
    "len(unique_to_dot_anchors)"
   ]
  },
  {
   "cell_type": "markdown",
   "id": "5135ff6f-98fd-4152-96f9-81f1ce67af7c",
   "metadata": {},
   "source": [
    "### 36,948 CTCF sites overlapping uniquely dot anchors"
   ]
  },
  {
   "cell_type": "code",
   "execution_count": 44,
   "id": "79e96cc9-caa3-4b2f-9b5d-8c98f5df9e5d",
   "metadata": {},
   "outputs": [
    {
     "data": {
      "text/plain": [
       "17"
      ]
     },
     "execution_count": 44,
     "metadata": {},
     "output_type": "execute_result"
    }
   ],
   "source": [
    "39226 // num_overlap"
   ]
  },
  {
   "cell_type": "markdown",
   "id": "7f6e6623-f07c-482e-a470-c12100acc0c4",
   "metadata": {},
   "source": [
    "### 1/17 of dot-CTCTs overlap boundaries"
   ]
  },
  {
   "cell_type": "code",
   "execution_count": 45,
   "id": "a716a2bb-2b86-4cb4-9a8a-9d2de56687a2",
   "metadata": {},
   "outputs": [
    {
     "data": {
      "text/plain": [
       "3"
      ]
     },
     "execution_count": 45,
     "metadata": {},
     "output_type": "execute_result"
    }
   ],
   "source": [
    "7560 // num_overlap"
   ]
  },
  {
   "cell_type": "markdown",
   "id": "f6330b6e-b2ec-49d0-ac5b-0fb37ff6facf",
   "metadata": {},
   "source": [
    "### 1/3 of boundary-CTCFs overlap dots"
   ]
  }
 ],
 "metadata": {
  "kernelspec": {
   "display_name": "basenji_py3.9_tf2.15",
   "language": "python",
   "name": "basenji_py3.9_tf2.15"
  },
  "language_info": {
   "codemirror_mode": {
    "name": "ipython",
    "version": 3
   },
   "file_extension": ".py",
   "mimetype": "text/x-python",
   "name": "python",
   "nbconvert_exporter": "python",
   "pygments_lexer": "ipython3",
   "version": "3.9.18"
  }
 },
 "nbformat": 4,
 "nbformat_minor": 5
}
