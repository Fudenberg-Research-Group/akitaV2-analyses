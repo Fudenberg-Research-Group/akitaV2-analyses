{
 "cells": [
  {
   "cell_type": "code",
   "execution_count": 1,
   "metadata": {},
   "outputs": [],
   "source": [
    "from optparse import OptionParser\n",
    "import json\n",
    "import os\n",
    "import pickle\n",
    "import random\n",
    "import re\n",
    "import pandas as pd\n",
    "import pysam\n",
    "# import h5py\n",
    "import numpy as np"
   ]
  },
  {
   "cell_type": "code",
   "execution_count": 2,
   "metadata": {},
   "outputs": [],
   "source": [
    "import matplotlib.pyplot as plt\n",
    "import seaborn as sns"
   ]
  },
  {
   "cell_type": "code",
   "execution_count": 3,
   "metadata": {},
   "outputs": [],
   "source": [
    "from skimage.filters import threshold_li"
   ]
  },
  {
   "cell_type": "code",
   "execution_count": 4,
   "metadata": {},
   "outputs": [],
   "source": [
    "Bonev2017_mESC_path = \"/project/fudenber_735/GEO/bonev_2017_GSE96107/distiller-0.3.1_mm10/results/coolers/HiC_ES_all.mm10.mapq_30.2048.cool\""
   ]
  },
  {
   "cell_type": "code",
   "execution_count": 5,
   "metadata": {},
   "outputs": [],
   "source": [
    "import warnings\n",
    "warnings.filterwarnings(\"ignore\") \n",
    "\n",
    "import numpy as np\n",
    "import pandas as pd\n",
    "import cooler\n",
    "from cooltools.lib.numutils import observed_over_expected, adaptive_coarsegrain\n",
    "from cooltools.lib.numutils import interpolate_bad_singletons, set_diag, interp_nan\n",
    "from astropy.convolution import Gaussian2DKernel\n",
    "from astropy.convolution import convolve\n",
    "from bioframe.io.fileops import read_bigwig"
   ]
  },
  {
   "cell_type": "code",
   "execution_count": 6,
   "metadata": {
    "jupyter": {
     "source_hidden": true
    }
   },
   "outputs": [],
   "source": [
    "# # with removed data extrapolation\n",
    "\n",
    "# def get_target(cooler_path, padding, mseq_str, diagonal_offset=2):\n",
    "    \n",
    "#     genome_hic_cool = cooler.Cooler(cooler_path)\n",
    "    \n",
    "#     seq_hic_raw = genome_hic_cool.matrix(balance=True).fetch(mseq_str)\n",
    "\n",
    "#     seq_hic_nan = np.isnan(seq_hic_raw)\n",
    "#     # num_filtered_bins = np.sum(np.sum(seq_hic_nan,axis=0) == len(seq_hic_nan))\n",
    "\n",
    "#     # clip first diagonals and high values\n",
    "#     clipval = np.nanmedian(np.diag(seq_hic_raw, diagonal_offset))\n",
    "#     for i in range(-diagonal_offset+1, diagonal_offset):\n",
    "#         set_diag(seq_hic_raw, clipval, i)\n",
    "#     seq_hic_raw = np.clip(seq_hic_raw, 0, clipval)\n",
    "#     seq_hic_raw[seq_hic_nan] = np.nan\n",
    "    \n",
    "#     # adaptively coarsegrain based on raw counts\n",
    "#     seq_hic_smoothed = adaptive_coarsegrain(\n",
    "#                         seq_hic_raw,\n",
    "#                         genome_hic_cool.matrix(balance=False).fetch(mseq_str),\n",
    "#                         cutoff=2, max_levels=8)\n",
    "#     seq_hic_nan = np.isnan(seq_hic_smoothed)\n",
    "    \n",
    "#     # local obs/exp\n",
    "#     seq_hic_obsexp = observed_over_expected(seq_hic_smoothed, ~seq_hic_nan)[0]\n",
    "#     log_hic_obsexp = np.log(seq_hic_obsexp)\n",
    "\n",
    "#     # crop\n",
    "#     if padding > 0:\n",
    "#         log_hic_obsexp = log_hic_obsexp[padding:-padding,:]\n",
    "#         log_hic_obsexp = log_hic_obsexp[:,padding:-padding]\n",
    "\n",
    "#     # # aplying Gaussian Kernel\n",
    "#     # kernel = Gaussian2DKernel(x_stddev=1)\n",
    "#     # kernel_log_hic_obsexp = convolve(log_hic_obsexp, kernel)\n",
    "    \n",
    "#     # return kernel_log_hic_obsexp\n",
    "#     return log_hic_obsexp"
   ]
  },
  {
   "cell_type": "code",
   "execution_count": 6,
   "metadata": {},
   "outputs": [],
   "source": [
    "seq_len_nt = 1310720\n",
    "padding = (640-512) // 2"
   ]
  },
  {
   "cell_type": "code",
   "execution_count": 7,
   "metadata": {},
   "outputs": [],
   "source": [
    "explained_path = \"./all_explained_boundaries.tsv\"\n",
    "unexplained_path = \"./all_unexplained_boundaries.tsv\""
   ]
  },
  {
   "cell_type": "code",
   "execution_count": 8,
   "metadata": {},
   "outputs": [],
   "source": [
    "explained_tads = pd.read_csv(explained_path, sep=\"\\t\", index_col=None)\n",
    "unexplained_tads = pd.read_csv(unexplained_path, sep=\"\\t\", index_col=None)"
   ]
  },
  {
   "cell_type": "code",
   "execution_count": 10,
   "metadata": {
    "collapsed": true,
    "jupyter": {
     "outputs_hidden": true,
     "source_hidden": true
    }
   },
   "outputs": [
    {
     "name": "stdout",
     "output_type": "stream",
     "text": [
      "working on 0\n",
      "working on 100\n",
      "working on 200\n",
      "working on 300\n",
      "working on 400\n",
      "working on 500\n",
      "working on 600\n",
      "working on 700\n",
      "working on 800\n",
      "working on 900\n",
      "working on 1000\n",
      "working on 1100\n",
      "working on 1200\n",
      "working on 1300\n",
      "working on 1400\n",
      "working on 1500\n",
      "working on 1600\n",
      "working on 1700\n",
      "working on 1800\n",
      "working on 1900\n",
      "working on 2000\n",
      "working on 2100\n",
      "working on 2200\n"
     ]
    }
   ],
   "source": [
    "# nan_percentages = []\n",
    "\n",
    "# for index, row in explained_tads.iterrows():\n",
    "#     if index % 100 == 0:\n",
    "#         print(\"working on\", index)\n",
    "#     mseq_str = '%s:%d-%d' % (row.chrom, row.window_start, row.window_end)\n",
    "#     matrix = get_target(Bonev2017_mESC_path, padding, mseq_str)\n",
    "#     total_elements = matrix.size\n",
    "    \n",
    "#     # Count the number of NaNs in the matrix\n",
    "#     nan_count = np.isnan(matrix).sum()\n",
    "    \n",
    "#     nan_percentage = (nan_count / total_elements) * 100\n",
    "#     nan_percentages.append(nan_percentage)"
   ]
  },
  {
   "cell_type": "code",
   "execution_count": 11,
   "metadata": {},
   "outputs": [],
   "source": [
    "# explained_tads[\"miss_per\"] = nan_percentages"
   ]
  },
  {
   "cell_type": "code",
   "execution_count": 12,
   "metadata": {},
   "outputs": [],
   "source": [
    "# explained_tads.to_csv(\"all_explained_boundaries.tsv\", sep=\"\\t\", index=False)"
   ]
  },
  {
   "cell_type": "code",
   "execution_count": 10,
   "metadata": {
    "collapsed": true,
    "jupyter": {
     "outputs_hidden": true,
     "source_hidden": true
    }
   },
   "outputs": [
    {
     "name": "stdout",
     "output_type": "stream",
     "text": [
      "working on 0\n",
      "working on 100\n",
      "working on 200\n",
      "working on 300\n",
      "working on 400\n",
      "working on 500\n",
      "working on 600\n",
      "working on 700\n",
      "working on 800\n",
      "working on 900\n",
      "working on 1000\n",
      "working on 1100\n",
      "working on 1200\n",
      "working on 1300\n",
      "working on 1400\n",
      "working on 1500\n",
      "working on 1600\n",
      "working on 1700\n",
      "working on 1800\n",
      "working on 1900\n",
      "working on 2000\n",
      "working on 2100\n",
      "working on 2200\n"
     ]
    }
   ],
   "source": [
    "# nan_percentages = []\n",
    "\n",
    "# for index, row in unexplained_tads.iterrows():\n",
    "#     if index % 100 == 0:\n",
    "#         print(\"working on\", index)\n",
    "#     mseq_str = '%s:%d-%d' % (row.chrom, row.window_start, row.window_end)\n",
    "#     matrix = get_target(Bonev2017_mESC_path, padding, mseq_str)\n",
    "#     total_elements = matrix.size\n",
    "    \n",
    "#     # Count the number of NaNs in the matrix\n",
    "#     nan_count = np.isnan(matrix).sum()\n",
    "    \n",
    "#     nan_percentage = (nan_count / total_elements) * 100\n",
    "#     nan_percentages.append(nan_percentage)"
   ]
  },
  {
   "cell_type": "code",
   "execution_count": 11,
   "metadata": {},
   "outputs": [],
   "source": [
    "# unexplained_tads[\"miss_per\"] = nan_percentages"
   ]
  },
  {
   "cell_type": "code",
   "execution_count": 12,
   "metadata": {},
   "outputs": [],
   "source": [
    "# unexplained_tads.to_csv(\"all_unexplained_boundaries.tsv\", sep=\"\\t\", index=False)"
   ]
  },
  {
   "cell_type": "code",
   "execution_count": 11,
   "metadata": {},
   "outputs": [],
   "source": [
    "from skimage.filters import threshold_li, threshold_otsu"
   ]
  },
  {
   "cell_type": "code",
   "execution_count": 12,
   "metadata": {},
   "outputs": [
    {
     "data": {
      "image/png": "[encoded data removed]",
      "text/plain": [
       "<Figure size 1000x600 with 1 Axes>"
      ]
     },
     "metadata": {},
     "output_type": "display_data"
    }
   ],
   "source": [
    "# Assuming explained_tads and unexplained_tads DataFrames have a column 'miss_per'\n",
    "plt.figure(figsize=(10, 6))\n",
    "\n",
    "# Plotting the histogram for explained_tads\n",
    "plt.hist(explained_tads['miss_per'], bins=30, alpha=0.5, label='Explained TADs', color='blue', edgecolor='black')\n",
    "\n",
    "# Plotting the histogram for unexplained_tads\n",
    "plt.hist(unexplained_tads['miss_per'], bins=30, alpha=0.5, label='Unexplained TADs', color='orange', edgecolor='black')\n",
    "\n",
    "thresholds_li = threshold_li(pd.concat([explained_tads['miss_per'], unexplained_tads['miss_per']]).values)\n",
    "thresholds_otsu = threshold_otsu(pd.concat([explained_tads['miss_per'], unexplained_tads['miss_per']]).values)\n",
    "\n",
    "plt.axvline(thresholds_li, color='red', linestyle='dashed', linewidth=2, label='Li Threshold')\n",
    "plt.axvline(thresholds_otsu, color='green', linestyle='dashed', linewidth=2, label='Otsu Threshold')\n",
    "\n",
    "# Adding labels and title\n",
    "plt.xlabel('Miss Percentage')\n",
    "plt.ylabel('Frequency')\n",
    "plt.title('Histogram of Miss Percentage for Explained and Unexplained TADs')\n",
    "plt.legend()\n",
    "plt.grid(axis='y', linestyle='--', alpha=0.7)\n",
    "\n",
    "# plt.savefig(\"./plots/missing_data_assessment.pdf\", format=\"pdf\")\n",
    "# Show the plot\n",
    "plt.show()"
   ]
  },
  {
   "cell_type": "code",
   "execution_count": 13,
   "metadata": {},
   "outputs": [
    {
     "data": {
      "text/plain": [
       "(10.711291171724747, 13.864854160966908)"
      ]
     },
     "execution_count": 13,
     "metadata": {},
     "output_type": "execute_result"
    }
   ],
   "source": [
    "thresholds_li, thresholds_otsu"
   ]
  },
  {
   "cell_type": "code",
   "execution_count": 20,
   "metadata": {},
   "outputs": [
    {
     "name": "stdout",
     "output_type": "stream",
     "text": [
      "45.07% of unexplained TADs are within windows with at least 10.71% of missing data\n"
     ]
    }
   ],
   "source": [
    "percentage = (len(unexplained_tads[unexplained_tads['miss_per'] > thresholds_li]) / len(unexplained_tads))*100\n",
    "print(f\"{round(percentage,2)}% of unexplained TADs are within windows with at least {round(thresholds_li,2)}% of missing data\")"
   ]
  },
  {
   "cell_type": "code",
   "execution_count": 21,
   "metadata": {},
   "outputs": [
    {
     "data": {
      "text/plain": [
       "1020"
      ]
     },
     "execution_count": 21,
     "metadata": {},
     "output_type": "execute_result"
    }
   ],
   "source": [
    "len(unexplained_tads[unexplained_tads['miss_per'] > thresholds_li])"
   ]
  },
  {
   "cell_type": "code",
   "execution_count": 14,
   "metadata": {},
   "outputs": [
    {
     "data": {
      "text/plain": [
       "769"
      ]
     },
     "execution_count": 14,
     "metadata": {},
     "output_type": "execute_result"
    }
   ],
   "source": [
    "len(unexplained_tads[unexplained_tads['miss_per'] > thresholds_otsu])"
   ]
  }
 ],
 "metadata": {
  "kernelspec": {
   "display_name": "basenji_py3.9_tf2.15",
   "language": "python",
   "name": "basenji_py3.9_tf2.15"
  },
  "language_info": {
   "codemirror_mode": {
    "name": "ipython",
    "version": 3
   },
   "file_extension": ".py",
   "mimetype": "text/x-python",
   "name": "python",
   "nbconvert_exporter": "python",
   "pygments_lexer": "ipython3",
   "version": "3.9.18"
  }
 },
 "nbformat": 4,
 "nbformat_minor": 4
}
