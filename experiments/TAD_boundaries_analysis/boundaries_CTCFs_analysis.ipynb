{
 "cells": [
  {
   "cell_type": "code",
   "execution_count": 1,
   "id": "14ccdaa0-4507-480e-88cf-6586925ca703",
   "metadata": {},
   "outputs": [],
   "source": [
    "import bioframe as bf\n",
    "import pandas as pd\n",
    "import matplotlib.pyplot as plt\n",
    "\n",
    "from akita_utils.df_utils import (\n",
    "    filter_by_chrmlen,\n",
    "    filter_by_overlap_num,\n",
    "    filter_by_chromID,\n",
    ")\n",
    "from akita_utils.format_io import read_jaspar_to_numpy, read_rmsk"
   ]
  },
  {
   "cell_type": "code",
   "execution_count": 2,
   "id": "0aae7b6c",
   "metadata": {},
   "outputs": [],
   "source": [
    "# parameters and paths\n",
    "ctcf_filter_expand_window = 60\n",
    "rmsk_filter_expand_window = 20\n",
    "chrom_sizes_file = \"/project/fudenber_735/genomes/mm10/mm10.chrom.sizes.reduced\"\n",
    "autosomes_only = True\n",
    "seq_length = 1310720\n",
    "\n",
    "if autosomes_only:\n",
    "    chromID_to_drop = [\"chrX\", \"chrY\", \"chrM\"]"
   ]
  },
  {
   "cell_type": "markdown",
   "id": "bdb55224-cc98-4b25-93d6-399f00dc9191",
   "metadata": {},
   "source": [
    "### Reading boundaries data"
   ]
  },
  {
   "cell_type": "code",
   "execution_count": 3,
   "id": "ff10fc69-03d2-48ad-88fd-87a329a5cf8d",
   "metadata": {},
   "outputs": [],
   "source": [
    "# parameters and paths\n",
    "boundaries_file = \"/project/fudenber_735/GEO/bonev_2017_GSE96107/distiller-0.3.1_mm10/results/coolers/features/bonev2017.HiC_ES.mm10.mapq_30.1000.window_200000.insulation\"\n",
    "boundaries = pd.read_csv(boundaries_file, sep=\"\\t\")\n",
    "boundary_strength_thresh = 0.25\n",
    "boundary_insulation_thresh = 0\n",
    "\n",
    "window_size = boundaries_file.split(\"window_\")[1].split(\".\")[0]\n",
    "boundary_key, insulation_key = (\n",
    "    f\"boundary_strength_{window_size}\",\n",
    "    f\"log2_insulation_score_{window_size}\",\n",
    ")\n",
    "\n",
    "# filtering string boundaries\n",
    "boundaries = boundaries.iloc[\n",
    "        (boundaries[boundary_key].values > boundary_strength_thresh)\n",
    "        * (\n",
    "            boundaries[insulation_key].values\n",
    "            < boundary_insulation_thresh\n",
    "        )\n",
    "    ]\n",
    "\n",
    "if autosomes_only:\n",
    "    boundaries = filter_by_chromID(boundaries, chrID_to_drop=chromID_to_drop)\n",
    "\n",
    "boundaries = filter_by_chrmlen(\n",
    "    boundaries,\n",
    "    chrom_sizes_file,\n",
    "    seq_length,\n",
    ")\n",
    "\n",
    "boundaries.reset_index(drop=True, inplace=True)"
   ]
  },
  {
   "cell_type": "code",
   "execution_count": 4,
   "id": "d1cfb9d3-2f29-409e-b668-dc151d9fe42f",
   "metadata": {},
   "outputs": [
    {
     "name": "stdout",
     "output_type": "stream",
     "text": [
      "numer of boundaries:  4474\n"
     ]
    }
   ],
   "source": [
    "print(\"numer of boundaries: \", len(boundaries))"
   ]
  },
  {
   "cell_type": "markdown",
   "id": "2c1905d4",
   "metadata": {},
   "source": [
    "### Strong CTCFs (top 20%)"
   ]
  },
  {
   "cell_type": "code",
   "execution_count": 6,
   "id": "5c01989b",
   "metadata": {},
   "outputs": [],
   "source": [
    "strong_CTCFs = pd.read_csv(\"/home1/smaruj/akitaX1-analyses/input_data/select_top20percent/output/CTCFs_jaspar_filtered_mm10_top20percent.tsv\", sep=\"\\t\")"
   ]
  },
  {
   "cell_type": "code",
   "execution_count": 7,
   "id": "6da5506c",
   "metadata": {},
   "outputs": [
    {
     "data": {
      "text/plain": [
       "300"
      ]
     },
     "execution_count": 7,
     "metadata": {},
     "output_type": "execute_result"
    }
   ],
   "source": [
    "len(strong_CTCFs)"
   ]
  },
  {
   "cell_type": "markdown",
   "id": "f91fb046-7365-44da-889e-8d437e6ce67b",
   "metadata": {},
   "source": [
    "### Overlapping CTCF df with boundaries df"
   ]
  },
  {
   "cell_type": "code",
   "execution_count": 8,
   "id": "5d60e3fa",
   "metadata": {},
   "outputs": [],
   "source": [
    "df_overlap = bf.overlap(\n",
    "    boundaries, strong_CTCFs, suffixes=(\"\", \"_2\"), return_index=False, how=\"inner\"\n",
    ")"
   ]
  },
  {
   "cell_type": "code",
   "execution_count": 9,
   "id": "706db967",
   "metadata": {},
   "outputs": [],
   "source": [
    "# Function to check overlap\n",
    "def check_overlap(row):\n",
    "    if row['chrom'] == row['chrom_2']:  # Ensure we are comparing regions on the same chromosome\n",
    "        return (row['start'] <= row['end_2']) and (row['end'] >= row['start_2'])\n",
    "    return False"
   ]
  },
  {
   "cell_type": "code",
   "execution_count": 10,
   "id": "71e057ba",
   "metadata": {},
   "outputs": [],
   "source": [
    "# Add a column to check for overlap\n",
    "df_overlap['overlap'] = df_overlap.apply(check_overlap, axis=1)"
   ]
  },
  {
   "cell_type": "code",
   "execution_count": 11,
   "id": "3e4568eb",
   "metadata": {},
   "outputs": [],
   "source": [
    "# Group by the (chrom, start, end) region and count how many overlaps there are\n",
    "overlap_counts = df_overlap.groupby(['chrom', 'start', 'end'])['overlap'].sum().reset_index()"
   ]
  },
  {
   "cell_type": "code",
   "execution_count": 12,
   "id": "fad79ae4",
   "metadata": {},
   "outputs": [
    {
     "data": {
      "image/png": "[encoded data removed]",
      "text/plain": [
       "<Figure size 300x300 with 1 Axes>"
      ]
     },
     "metadata": {},
     "output_type": "display_data"
    }
   ],
   "source": [
    "# Plotting the histogram of overlap counts\n",
    "plt.figure(figsize=(3, 3))\n",
    "plt.hist(overlap_counts['overlap'], bins=30, color='skyblue', edgecolor='black')\n",
    "plt.title('Histogram of Overlapping Regions')\n",
    "plt.xlabel('Number of Overlaps')\n",
    "plt.ylabel('Frequency')\n",
    "plt.show()"
   ]
  },
  {
   "cell_type": "code",
   "execution_count": 13,
   "id": "20ca09a8",
   "metadata": {},
   "outputs": [
    {
     "data": {
      "text/plain": [
       "300"
      ]
     },
     "execution_count": 13,
     "metadata": {},
     "output_type": "execute_result"
    }
   ],
   "source": [
    "len(df_overlap)"
   ]
  },
  {
   "cell_type": "code",
   "execution_count": 14,
   "id": "53a0daa5",
   "metadata": {},
   "outputs": [
    {
     "data": {
      "text/plain": [
       "11"
      ]
     },
     "execution_count": 14,
     "metadata": {},
     "output_type": "execute_result"
    }
   ],
   "source": [
    "len(overlap_counts[overlap_counts['overlap'] == 2])"
   ]
  },
  {
   "cell_type": "code",
   "execution_count": 15,
   "id": "bbffde3a",
   "metadata": {},
   "outputs": [
    {
     "data": {
      "text/plain": [
       "0.03666666666666667"
      ]
     },
     "execution_count": 15,
     "metadata": {},
     "output_type": "execute_result"
    }
   ],
   "source": [
    "11/300"
   ]
  },
  {
   "cell_type": "markdown",
   "id": "1bd3ff9e",
   "metadata": {},
   "source": [
    "Number of TAD boundaries with at least one strong CTCF = 289   \n",
    "Only 11 of them possess 2 strong CTCF sites (3.6%)."
   ]
  },
  {
   "cell_type": "markdown",
   "id": "74f6aee6",
   "metadata": {},
   "source": [
    "### Number of (unfiltered, jaspar) CTCF in the boundary"
   ]
  },
  {
   "cell_type": "code",
   "execution_count": 17,
   "id": "170b3da5",
   "metadata": {},
   "outputs": [],
   "source": [
    "no_strong_boundary = pd.merge(boundaries, df_overlap[['chrom', 'start', 'end']], \n",
    "                          on=['chrom', 'start', 'end'], \n",
    "                          how='left', indicator=True)\n",
    "\n",
    "# Select rows where the indicator shows that there was no match\n",
    "no_strong_boundary = no_strong_boundary[no_strong_boundary['_merge'] == 'left_only'].drop('_merge', axis=1)"
   ]
  },
  {
   "cell_type": "code",
   "execution_count": 24,
   "id": "ef9d8421",
   "metadata": {},
   "outputs": [
    {
     "data": {
      "text/plain": [
       "4185"
      ]
     },
     "execution_count": 24,
     "metadata": {},
     "output_type": "execute_result"
    }
   ],
   "source": [
    "len(no_strong_boundary)"
   ]
  },
  {
   "cell_type": "code",
   "execution_count": 18,
   "id": "29b31a88",
   "metadata": {},
   "outputs": [],
   "source": [
    "jaspar_file = \"/project/fudenber_735/motifs/mm10/jaspar/MA0139.1.tsv.gz\""
   ]
  },
  {
   "cell_type": "code",
   "execution_count": 19,
   "id": "41263f60",
   "metadata": {},
   "outputs": [],
   "source": [
    "# read jaspar table (all CTCFs in the mouse genome)\n",
    "jaspar_df = bf.read_table(jaspar_file, schema=\"jaspar\", skiprows=1)\n",
    "if autosomes_only:\n",
    "    jaspar_df = filter_by_chromID(jaspar_df, chrID_to_drop=chromID_to_drop)\n",
    "jaspar_df.reset_index(drop=True, inplace=True)"
   ]
  },
  {
   "cell_type": "code",
   "execution_count": 25,
   "id": "22fb421a",
   "metadata": {},
   "outputs": [
    {
     "data": {
      "text/plain": [
       "764916"
      ]
     },
     "execution_count": 25,
     "metadata": {},
     "output_type": "execute_result"
    }
   ],
   "source": [
    "len(jaspar_df)"
   ]
  },
  {
   "cell_type": "code",
   "execution_count": 20,
   "id": "26f27214",
   "metadata": {},
   "outputs": [],
   "source": [
    "no_strong_df_overlap = bf.overlap(\n",
    "    no_strong_boundary, jaspar_df, suffixes=(\"\", \"_2\"), return_index=False, how=\"inner\"\n",
    ")"
   ]
  },
  {
   "cell_type": "code",
   "execution_count": 21,
   "id": "d8220b31",
   "metadata": {},
   "outputs": [],
   "source": [
    "no_strong_df_overlap['overlap'] = no_strong_df_overlap.apply(check_overlap, axis=1)"
   ]
  },
  {
   "cell_type": "code",
   "execution_count": 22,
   "id": "cf99ab67",
   "metadata": {},
   "outputs": [],
   "source": [
    "no_strong_overlap_counts = no_strong_df_overlap.groupby(['chrom', 'start', 'end'])['overlap'].sum().reset_index()"
   ]
  },
  {
   "cell_type": "code",
   "execution_count": 26,
   "id": "b62a1c81",
   "metadata": {},
   "outputs": [
    {
     "data": {
      "text/plain": [
       "3972"
      ]
     },
     "execution_count": 26,
     "metadata": {},
     "output_type": "execute_result"
    }
   ],
   "source": [
    "len(no_strong_overlap_counts)"
   ]
  },
  {
   "cell_type": "code",
   "execution_count": 23,
   "id": "b974f151",
   "metadata": {},
   "outputs": [
    {
     "data": {
      "image/png": "[encoded data removed]",
      "text/plain": [
       "<Figure size 300x300 with 1 Axes>"
      ]
     },
     "metadata": {},
     "output_type": "display_data"
    }
   ],
   "source": [
    "plt.figure(figsize=(3, 3))\n",
    "plt.hist(no_strong_overlap_counts['overlap'], bins=30, color='skyblue', edgecolor='black')\n",
    "plt.title('Histogram of Overlapping Regions')\n",
    "plt.xlabel('Number of Overlaps')\n",
    "plt.ylabel('Frequency')\n",
    "plt.show()"
   ]
  },
  {
   "cell_type": "code",
   "execution_count": 28,
   "id": "c4ca9994",
   "metadata": {},
   "outputs": [],
   "source": [
    "no_strong_boundary.to_csv(\"boundaries_no_strong_site.tsv\", sep=\"\\t\")"
   ]
  }
 ],
 "metadata": {
  "kernelspec": {
   "display_name": "basenji_py3.9_tf2.15",
   "language": "python",
   "name": "basenji_py3.9_tf2.15"
  },
  "language_info": {
   "codemirror_mode": {
    "name": "ipython",
    "version": 3
   },
   "file_extension": ".py",
   "mimetype": "text/x-python",
   "name": "python",
   "nbconvert_exporter": "python",
   "pygments_lexer": "ipython3",
   "version": "3.9.18"
  }
 },
 "nbformat": 4,
 "nbformat_minor": 5
}
